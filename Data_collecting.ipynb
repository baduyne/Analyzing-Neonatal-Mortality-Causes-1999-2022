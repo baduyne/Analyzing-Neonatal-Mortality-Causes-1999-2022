{
 "cells": [
  {
   "cell_type": "code",
   "execution_count": 8,
   "metadata": {},
   "outputs": [],
   "source": [
    "import warnings\n",
    "warnings.filterwarnings(\"ignore\")\n",
    "\n",
    "import requests\n",
    "import pandas as pd\n",
    "import bs4 as bs\n",
    "import time"
   ]
  },
  {
   "cell_type": "markdown",
   "metadata": {},
   "source": [
    "### **Hàm giúp chuyển đổi file data xml sang mảng 2 chiều giúp dễ dàng chuyển sang pd.Dataframe hơn**"
   ]
  },
  {
   "cell_type": "code",
   "execution_count": 4,
   "metadata": {},
   "outputs": [],
   "source": [
    "def xml2df(xml_data):\n",
    "    \"\"\" This function grabs the root of the XML document and iterates over\n",
    "        the 'r' (row) and 'c' (column) tags of the data-table\n",
    "        Rows with a 'v' attribute contain a numerical value\n",
    "        Rows with a 'l attribute contain a text label and may contain an\n",
    "        additional 'r' (rowspan) tag which identifies how many rows the value\n",
    "        should be added. If present, that label will be added to the following\n",
    "        rows of the data table.\n",
    "    \n",
    "        Function returns a two-dimensional array or data frame that may be \n",
    "        used by the pandas library.\"\"\"\n",
    "    \n",
    "    root = bs.BeautifulSoup(xml_data,\"lxml\")\n",
    "    all_records = []\n",
    "    row_number = 0\n",
    "    rows = root.find_all(\"r\")\n",
    "    \n",
    "    for row in rows:\n",
    "        if row_number >= len(all_records):\n",
    "            all_records.append([])\n",
    "              \n",
    "        for cell in row.find_all(\"c\"):\n",
    "            if 'v' in cell.attrs:\n",
    "                try:\n",
    "                    all_records[row_number].append(float(cell.attrs[\"v\"].replace(',','')))\n",
    "                except ValueError:\n",
    "                    all_records[row_number].append(cell.attrs[\"v\"])\n",
    "            else:\n",
    "                if 'r' not in cell.attrs:\n",
    "                    all_records[row_number].append(cell.attrs[\"l\"])\n",
    "                else:\n",
    "                \n",
    "                    for row_index in range(int(cell.attrs[\"r\"])):\n",
    "                        if (row_number + row_index) >= len(all_records):\n",
    "                            all_records.append([])\n",
    "                            all_records[row_number + row_index].append(cell.attrs[\"l\"])\n",
    "                        else:\n",
    "                            all_records[row_number + row_index].append(cell.attrs[\"l\"])\n",
    "                                           \n",
    "        row_number += 1\n",
    "    return all_records"
   ]
  },
  {
   "cell_type": "markdown",
   "metadata": {},
   "source": [
    "## **Thu thập dữ liệu từ năm 2003 đến năm 2006**"
   ]
  },
  {
   "cell_type": "code",
   "execution_count": 9,
   "metadata": {},
   "outputs": [
    {
     "name": "stdout",
     "output_type": "stream",
     "text": [
      "<class 'pandas.core.frame.DataFrame'>\n",
      "RangeIndex: 4086 entries, 0 to 4085\n",
      "Data columns (total 9 columns):\n",
      " #   Column                  Non-Null Count  Dtype \n",
      "---  ------                  --------------  ----- \n",
      " 0   Cause of death          4086 non-null   object\n",
      " 1   Age of mother           4086 non-null   object\n",
      " 2   Mother's education      4086 non-null   object\n",
      " 3   Birth weight            4086 non-null   object\n",
      " 4   Age of infant at death  4086 non-null   object\n",
      " 5   Deaths                  4086 non-null   object\n",
      " 6   Births                  4086 non-null   object\n",
      " 7   Death rate per 1000     4086 non-null   object\n",
      " 8   Year                    4086 non-null   int64 \n",
      "dtypes: int64(1), object(8)\n",
      "memory usage: 287.4+ KB\n"
     ]
    }
   ],
   "source": [
    "# Create an empty DataFrame with the specified columns plus a 'year' column\n",
    "columns = [\"Cause of death\", \"Age of mother\", \"Mother's education\", \"Birth weight\", \"Age of infant at death\", \"Deaths\", \"Births\", \"Death rate per 1000\"]\n",
    "dataset_2003_2006 = pd.DataFrame(columns=columns)\n",
    "dataset_2003_2006['Year'] = pd.Series(dtype='int')\n",
    "\n",
    "url = \"https://wonder.cdc.gov/controller/datarequest/D31\"\n",
    "\n",
    "with open('request_2003_2006.xml', 'r') as file:\n",
    "    lines = file.readlines()\n",
    "\n",
    "for year in range(2003, 2007):\n",
    "    lines[220] = f'\\t\\t<value>{str(year)}</value>\\n'\n",
    "    xml_request = ''.join(lines)\n",
    "\n",
    "    response = requests.post(url, data={\"request_xml\": xml_request, \"accept_datause_restrictions\": \"true\"})\n",
    "\n",
    "    if response.status_code == 200:\n",
    "        data = response.text \n",
    "        data_frame = xml2df(data)\n",
    "\n",
    "        new_data = pd.DataFrame(data=data_frame, columns=columns)\n",
    "        new_data['Year'] = year  # Add the year column\n",
    "        dataset_2003_2006 = pd.concat([dataset_2003_2006, new_data], ignore_index=True)\n",
    "    else:\n",
    "        print(f\"Something went wrong for year {year}\")\n",
    "\n",
    "    # Wait for 90 seconds before making the next request\n",
    "    time.sleep(90)\n",
    "\n",
    "dataset_2003_2006.info()"
   ]
  },
  {
   "cell_type": "markdown",
   "metadata": {},
   "source": [
    "## **Thu thập dữ liệu từ năm 2007 đến năm 2022**"
   ]
  },
  {
   "cell_type": "code",
   "execution_count": 10,
   "metadata": {},
   "outputs": [
    {
     "name": "stdout",
     "output_type": "stream",
     "text": [
      "<class 'pandas.core.frame.DataFrame'>\n",
      "RangeIndex: 13187 entries, 0 to 13186\n",
      "Data columns (total 9 columns):\n",
      " #   Column                  Non-Null Count  Dtype \n",
      "---  ------                  --------------  ----- \n",
      " 0   Cause of death          13187 non-null  object\n",
      " 1   Age of mother           13187 non-null  object\n",
      " 2   Mother's education      13187 non-null  object\n",
      " 3   Birth weight            13187 non-null  object\n",
      " 4   Age of infant at death  13187 non-null  object\n",
      " 5   Deaths                  13187 non-null  object\n",
      " 6   Births                  13187 non-null  object\n",
      " 7   Death rate per 1000     13187 non-null  object\n",
      " 8   Year                    13187 non-null  int64 \n",
      "dtypes: int64(1), object(8)\n",
      "memory usage: 927.3+ KB\n"
     ]
    }
   ],
   "source": [
    "# Create an empty DataFrame with the specified columns plus a 'year' column\n",
    "columns = [\"Cause of death\", \"Age of mother\", \"Mother's education\", \"Birth weight\", \"Age of infant at death\", \"Deaths\", \"Births\", \"Death rate per 1000\"]\n",
    "dataset_2007_2022 = pd.DataFrame(columns=columns)\n",
    "dataset_2007_2022['Year'] = pd.Series(dtype='int')\n",
    "\n",
    "url = \"https://wonder.cdc.gov/controller/datarequest/D69\"\n",
    "\n",
    "with open('request_2007_2022.xml', 'r') as file:\n",
    "    lines = file.readlines()\n",
    "\n",
    "for year in range(2007, 2023):\n",
    "    lines[242] = f'\\t\\t<value>{str(year)}</value>\\n'\n",
    "    xml_request = ''.join(lines)\n",
    "\n",
    "    response = requests.post(url, data={\"request_xml\": xml_request, \"accept_datause_restrictions\": \"true\"})\n",
    "\n",
    "    if response.status_code == 200:\n",
    "        data = response.text \n",
    "        data_frame = xml2df(data)\n",
    "\n",
    "        new_data = pd.DataFrame(data=data_frame, columns=columns)\n",
    "        new_data['Year'] = year  # Add the year column\n",
    "        dataset_2007_2022 = pd.concat([dataset_2007_2022, new_data], ignore_index=True)\n",
    "    else:\n",
    "        print(f\"Something went wrong for year {year}\")\n",
    "\n",
    "    # Wait for 100 seconds before making the next request\n",
    "    time.sleep(100)\n",
    "\n",
    "dataset_2007_2022.info()"
   ]
  },
  {
   "cell_type": "markdown",
   "metadata": {},
   "source": [
    "### **Gộp hai khoảng thời gian dữ liệu đã thu thập**"
   ]
  },
  {
   "cell_type": "code",
   "execution_count": 11,
   "metadata": {},
   "outputs": [
    {
     "name": "stdout",
     "output_type": "stream",
     "text": [
      "<class 'pandas.core.frame.DataFrame'>\n",
      "RangeIndex: 17273 entries, 0 to 17272\n",
      "Data columns (total 9 columns):\n",
      " #   Column                  Non-Null Count  Dtype \n",
      "---  ------                  --------------  ----- \n",
      " 0   Cause of death          17273 non-null  object\n",
      " 1   Age of mother           17273 non-null  object\n",
      " 2   Mother's education      17273 non-null  object\n",
      " 3   Birth weight            17273 non-null  object\n",
      " 4   Age of infant at death  17273 non-null  object\n",
      " 5   Deaths                  17273 non-null  object\n",
      " 6   Births                  17273 non-null  object\n",
      " 7   Death rate per 1000     17273 non-null  object\n",
      " 8   Year                    17273 non-null  int64 \n",
      "dtypes: int64(1), object(8)\n",
      "memory usage: 1.2+ MB\n"
     ]
    }
   ],
   "source": [
    "dataset_2003_2022 =  pd.concat([dataset_2003_2006, dataset_2007_2022], ignore_index=True)\n",
    "dataset_2003_2022.info()"
   ]
  },
  {
   "cell_type": "markdown",
   "metadata": {},
   "source": [
    "### **Chuyển thành file csv**"
   ]
  },
  {
   "cell_type": "code",
   "execution_count": 12,
   "metadata": {},
   "outputs": [],
   "source": [
    "dataset_2003_2022.to_csv('./DATA/infant_mortality_data_2003_2022.csv', index=False)"
   ]
  },
  {
   "cell_type": "markdown",
   "metadata": {},
   "source": [
    "## **Lấy thêm các thuộc tính mở rộng liên quan đến chủ đề bộ dữ liệu từ năm 2017 đến năm 2022**"
   ]
  },
  {
   "cell_type": "code",
   "execution_count": 13,
   "metadata": {},
   "outputs": [],
   "source": [
    "# Create an empty DataFrame with the specified columns plus a 'year' column\n",
    "columns = [\"Cause of death\", \"NICU Admission\", \"Antibiotics for Mother\", \"Mother's Pre-pregnancy BMI\", \"Infant birth weight\", \"Deaths\", \"Births\", \"Death rate per 1000\"]\n",
    "dataset_expanded = pd.DataFrame(columns=columns)\n",
    "dataset_expanded['Year'] = pd.Series(dtype='int')\n",
    "\n",
    "url = \"https://wonder.cdc.gov/controller/datarequest/D159\"\n",
    "\n",
    "with open('request_2017_2022_expanded.xml', 'r') as file:\n",
    "    lines = file.readlines()\n",
    "\n",
    "for year in range(2017, 2023):\n",
    "    lines[773] = f'\\t\\t<value>{str(year)}</value>\\n'\n",
    "    xml_request = ''.join(lines)\n",
    "\n",
    "    response = requests.post(url, data={\"request_xml\": xml_request, \"accept_datause_restrictions\": \"true\"})\n",
    "\n",
    "    if response.status_code == 200:\n",
    "        data = response.text \n",
    "        data_frame = xml2df(data)\n",
    "\n",
    "        new_data = pd.DataFrame(data=data_frame, columns=columns)\n",
    "        new_data['Year'] = year  # Add the year column\n",
    "        dataset_expanded = pd.concat([dataset_expanded, new_data], ignore_index=True)\n",
    "    else:\n",
    "        print(f\"Something went wrong for year {year}\")\n",
    "\n",
    "    # Wait for 2 minutes before making the next request\n",
    "    time.sleep(90)"
   ]
  },
  {
   "cell_type": "code",
   "execution_count": 7,
   "metadata": {},
   "outputs": [
    {
     "name": "stdout",
     "output_type": "stream",
     "text": [
      "<class 'pandas.core.frame.DataFrame'>\n",
      "RangeIndex: 1443 entries, 0 to 1442\n",
      "Data columns (total 9 columns):\n",
      " #   Column                      Non-Null Count  Dtype \n",
      "---  ------                      --------------  ----- \n",
      " 0   Cause of death              1443 non-null   object\n",
      " 1   NICU Admission              1443 non-null   object\n",
      " 2   Antibiotics for Mother      1443 non-null   object\n",
      " 3   Mother's Pre-pregnancy BMI  1443 non-null   object\n",
      " 4   Infant birth weight         1443 non-null   object\n",
      " 5   Deaths                      1443 non-null   object\n",
      " 6   Births                      1443 non-null   object\n",
      " 7   Death rate per 1000         1443 non-null   object\n",
      " 8   Year                        1443 non-null   int64 \n",
      "dtypes: int64(1), object(8)\n",
      "memory usage: 101.6+ KB\n"
     ]
    }
   ],
   "source": [
    "dataset_expanded.info()\n",
    "dataset_expanded.to_csv('./DATA/infant_mortality_data_expanded_2017_2022.csv', index=False)"
   ]
  }
 ],
 "metadata": {
  "kernelspec": {
   "display_name": "min_ds-env",
   "language": "python",
   "name": "python3"
  },
  "language_info": {
   "codemirror_mode": {
    "name": "ipython",
    "version": 3
   },
   "file_extension": ".py",
   "mimetype": "text/x-python",
   "name": "python",
   "nbconvert_exporter": "python",
   "pygments_lexer": "ipython3",
   "version": "3.10.15"
  }
 },
 "nbformat": 4,
 "nbformat_minor": 2
}
