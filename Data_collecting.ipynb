{
 "cells": [
  {
   "cell_type": "code",
   "execution_count": 2,
   "metadata": {},
   "outputs": [],
   "source": [
    "import warnings\n",
    "warnings.filterwarnings(\"ignore\")\n",
    "\n",
    "import requests\n",
    "import pandas as pd\n",
    "import bs4 as bs\n",
    "import time"
   ]
  },
  {
   "cell_type": "markdown",
   "metadata": {},
   "source": [
    "### **Hàm giúp chuyển đổi file data xml sang mảng 2 chiều giúp dễ dàng chuyển sang pd.Dataframe hơn**"
   ]
  },
  {
   "cell_type": "code",
   "execution_count": 3,
   "metadata": {},
   "outputs": [],
   "source": [
    "def xml2df(xml_data):\n",
    "    \"\"\" This function grabs the root of the XML document and iterates over\n",
    "        the 'r' (row) and 'c' (column) tags of the data-table\n",
    "        Rows with a 'v' attribute contain a numerical value\n",
    "        Rows with a 'l attribute contain a text label and may contain an\n",
    "        additional 'r' (rowspan) tag which identifies how many rows the value\n",
    "        should be added. If present, that label will be added to the following\n",
    "        rows of the data table.\n",
    "    \n",
    "        Function returns a two-dimensional array or data frame that may be \n",
    "        used by the pandas library.\"\"\"\n",
    "    \n",
    "    root = bs.BeautifulSoup(xml_data,\"lxml\")\n",
    "    all_records = []\n",
    "    row_number = 0\n",
    "    rows = root.find_all(\"r\")\n",
    "    \n",
    "    for row in rows:\n",
    "        if row_number >= len(all_records):\n",
    "            all_records.append([])\n",
    "              \n",
    "        for cell in row.find_all(\"c\"):\n",
    "            if 'v' in cell.attrs:\n",
    "                try:\n",
    "                    all_records[row_number].append(float(cell.attrs[\"v\"].replace(',','')))\n",
    "                except ValueError:\n",
    "                    all_records[row_number].append(cell.attrs[\"v\"])\n",
    "            else:\n",
    "                if 'r' not in cell.attrs:\n",
    "                    all_records[row_number].append(cell.attrs[\"l\"])\n",
    "                else:\n",
    "                \n",
    "                    for row_index in range(int(cell.attrs[\"r\"])):\n",
    "                        if (row_number + row_index) >= len(all_records):\n",
    "                            all_records.append([])\n",
    "                            all_records[row_number + row_index].append(cell.attrs[\"l\"])\n",
    "                        else:\n",
    "                            all_records[row_number + row_index].append(cell.attrs[\"l\"])\n",
    "                                           \n",
    "        row_number += 1\n",
    "    return all_records"
   ]
  },
  {
   "cell_type": "markdown",
   "metadata": {},
   "source": [
    "## **Thu thập dữ liệu từ năm 1999 đến năm 2002**"
   ]
  },
  {
   "cell_type": "code",
   "execution_count": null,
   "metadata": {},
   "outputs": [
    {
     "name": "stdout",
     "output_type": "stream",
     "text": [
      "<class 'pandas.core.frame.DataFrame'>\n",
      "RangeIndex: 5437 entries, 0 to 5436\n",
      "Data columns (total 9 columns):\n",
      " #   Column                  Non-Null Count  Dtype \n",
      "---  ------                  --------------  ----- \n",
      " 0   Cause of death          5437 non-null   object\n",
      " 1   Age of mother           5437 non-null   object\n",
      " 2   Mother's education      5437 non-null   object\n",
      " 3   Birth weight            5437 non-null   object\n",
      " 4   Age of infant at death  5437 non-null   object\n",
      " 5   Deaths                  5437 non-null   object\n",
      " 6   Births                  5437 non-null   object\n",
      " 7   Death rate per 1000     5437 non-null   object\n",
      " 8   Year                    5437 non-null   int64 \n",
      "dtypes: int64(1), object(8)\n",
      "memory usage: 382.4+ KB\n"
     ]
    }
   ],
   "source": [
    "columns = [\"Cause of death\", \"Age of mother\", \"Mother's education\", \"Birth weight\", \"Age of infant at death\", \"Deaths\", \"Births\", \"Death rate per 1000\"]\n",
    "dataset_1999_2002 = pd.DataFrame(columns=columns)\n",
    "dataset_1999_2002['Year'] = pd.Series(dtype='int')\n",
    "\n",
    "url = \"https://wonder.cdc.gov/controller/datarequest/D18\"\n",
    "\n",
    "with open('./DATA/Request_XML/request_1999_2002.xml', 'r') as file:\n",
    "    lines = file.readlines()\n",
    "\n",
    "for year in range(1999, 2003):\n",
    "    lines[215] = f'\\t\\t<value>{str(year)}</value>\\n'\n",
    "    xml_request = ''.join(lines)\n",
    "\n",
    "    response = requests.post(url, data={\"request_xml\": xml_request, \"accept_datause_restrictions\": \"true\"})\n",
    "\n",
    "    if response.status_code == 200:\n",
    "        data = response.text \n",
    "        data_frame = xml2df(data)\n",
    "\n",
    "        new_data = pd.DataFrame(data=data_frame, columns=columns)\n",
    "        new_data['Year'] = year  # Add the year column\n",
    "        dataset_1999_2002 = pd.concat([dataset_1999_2002, new_data], ignore_index=True)\n",
    "    else:\n",
    "        print(f\"Something went wrong for year {year}\")\n",
    "\n",
    "    # Wait for 90 seconds before making the next request\n",
    "    time.sleep(90)\n",
    "\n",
    "dataset_1999_2002.info()"
   ]
  },
  {
   "cell_type": "markdown",
   "metadata": {},
   "source": [
    "## **Thu thập dữ liệu từ năm 2003 đến năm 2006**"
   ]
  },
  {
   "cell_type": "code",
   "execution_count": null,
   "metadata": {},
   "outputs": [
    {
     "name": "stdout",
     "output_type": "stream",
     "text": [
      "<class 'pandas.core.frame.DataFrame'>\n",
      "RangeIndex: 4086 entries, 0 to 4085\n",
      "Data columns (total 9 columns):\n",
      " #   Column                  Non-Null Count  Dtype \n",
      "---  ------                  --------------  ----- \n",
      " 0   Cause of death          4086 non-null   object\n",
      " 1   Age of mother           4086 non-null   object\n",
      " 2   Mother's education      4086 non-null   object\n",
      " 3   Birth weight            4086 non-null   object\n",
      " 4   Age of infant at death  4086 non-null   object\n",
      " 5   Deaths                  4086 non-null   object\n",
      " 6   Births                  4086 non-null   object\n",
      " 7   Death rate per 1000     4086 non-null   object\n",
      " 8   Year                    4086 non-null   int64 \n",
      "dtypes: int64(1), object(8)\n",
      "memory usage: 287.4+ KB\n"
     ]
    }
   ],
   "source": [
    "# Create an empty DataFrame with the specified columns plus a 'year' column\n",
    "columns = [\"Cause of death\", \"Age of mother\", \"Mother's education\", \"Birth weight\", \"Age of infant at death\", \"Deaths\", \"Births\", \"Death rate per 1000\"]\n",
    "dataset_2003_2006 = pd.DataFrame(columns=columns)\n",
    "dataset_2003_2006['Year'] = pd.Series(dtype='int')\n",
    "\n",
    "url = \"https://wonder.cdc.gov/controller/datarequest/D31\"\n",
    "\n",
    "with open('./DATA/Request_XML/request_2003_2006.xml', 'r') as file:\n",
    "    lines = file.readlines()\n",
    "\n",
    "for year in range(2003, 2007):\n",
    "    lines[220] = f'\\t\\t<value>{str(year)}</value>\\n'\n",
    "    xml_request = ''.join(lines)\n",
    "\n",
    "    response = requests.post(url, data={\"request_xml\": xml_request, \"accept_datause_restrictions\": \"true\"})\n",
    "\n",
    "    if response.status_code == 200:\n",
    "        data = response.text \n",
    "        data_frame = xml2df(data)\n",
    "\n",
    "        new_data = pd.DataFrame(data=data_frame, columns=columns)\n",
    "        new_data['Year'] = year  # Add the year column\n",
    "        dataset_2003_2006 = pd.concat([dataset_2003_2006, new_data], ignore_index=True)\n",
    "    else:\n",
    "        print(f\"Something went wrong for year {year}\")\n",
    "\n",
    "    # Wait for 90 seconds before making the next request\n",
    "    time.sleep(90)\n",
    "\n",
    "dataset_2003_2006.info()"
   ]
  },
  {
   "cell_type": "code",
   "execution_count": null,
   "metadata": {},
   "outputs": [],
   "source": [
    "dataset_2003_2006.to_csv('./DATA/dataset_2003_2006.csv', index=False)"
   ]
  },
  {
   "cell_type": "markdown",
   "metadata": {},
   "source": [
    "## **Thu thập dữ liệu từ năm 2007 đến năm 2022**"
   ]
  },
  {
   "cell_type": "code",
   "execution_count": null,
   "metadata": {},
   "outputs": [
    {
     "name": "stdout",
     "output_type": "stream",
     "text": [
      "<class 'pandas.core.frame.DataFrame'>\n",
      "RangeIndex: 13187 entries, 0 to 13186\n",
      "Data columns (total 9 columns):\n",
      " #   Column                  Non-Null Count  Dtype \n",
      "---  ------                  --------------  ----- \n",
      " 0   Cause of death          13187 non-null  object\n",
      " 1   Age of mother           13187 non-null  object\n",
      " 2   Mother's education      13187 non-null  object\n",
      " 3   Birth weight            13187 non-null  object\n",
      " 4   Age of infant at death  13187 non-null  object\n",
      " 5   Deaths                  13187 non-null  object\n",
      " 6   Births                  13187 non-null  object\n",
      " 7   Death rate per 1000     13187 non-null  object\n",
      " 8   Year                    13187 non-null  int64 \n",
      "dtypes: int64(1), object(8)\n",
      "memory usage: 927.3+ KB\n"
     ]
    }
   ],
   "source": [
    "# Create an empty DataFrame with the specified columns plus a 'year' column\n",
    "columns = [\"Cause of death\", \"Age of mother\", \"Mother's education\", \"Birth weight\", \"Age of infant at death\", \"Deaths\", \"Births\", \"Death rate per 1000\"]\n",
    "dataset_2007_2022 = pd.DataFrame(columns=columns)\n",
    "dataset_2007_2022['Year'] = pd.Series(dtype='int')\n",
    "\n",
    "url = \"https://wonder.cdc.gov/controller/datarequest/D69\"\n",
    "\n",
    "with open('./DATA/Request_XML/request_2007_2022.xml', 'r') as file:\n",
    "    lines = file.readlines()\n",
    "\n",
    "for year in range(2007, 2023):\n",
    "    lines[242] = f'\\t\\t<value>{str(year)}</value>\\n'\n",
    "    xml_request = ''.join(lines)\n",
    "\n",
    "    response = requests.post(url, data={\"request_xml\": xml_request, \"accept_datause_restrictions\": \"true\"})\n",
    "\n",
    "    if response.status_code == 200:\n",
    "        data = response.text \n",
    "        data_frame = xml2df(data)\n",
    "\n",
    "        new_data = pd.DataFrame(data=data_frame, columns=columns)\n",
    "        new_data['Year'] = year  # Add the year column\n",
    "        dataset_2007_2022 = pd.concat([dataset_2007_2022, new_data], ignore_index=True)\n",
    "    else:\n",
    "        print(f\"Something went wrong for year {year}\")\n",
    "\n",
    "    # Wait for 100 seconds before making the next request\n",
    "    time.sleep(100)\n",
    "\n",
    "dataset_2007_2022.info()\n",
    "\n",
    "dataset_2007_2022.to_csv('./DATA/dataset_2007_2022.csv', index=False)"
   ]
  },
  {
   "cell_type": "markdown",
   "metadata": {},
   "source": [
    "### **Gộp các khoảng thời gian dữ liệu đã thu thập**"
   ]
  },
  {
   "cell_type": "code",
   "execution_count": 10,
   "metadata": {},
   "outputs": [
    {
     "name": "stdout",
     "output_type": "stream",
     "text": [
      "<class 'pandas.core.frame.DataFrame'>\n",
      "RangeIndex: 22710 entries, 0 to 22709\n",
      "Data columns (total 9 columns):\n",
      " #   Column                  Non-Null Count  Dtype \n",
      "---  ------                  --------------  ----- \n",
      " 0   Cause of death          22710 non-null  object\n",
      " 1   Age of mother           22710 non-null  object\n",
      " 2   Mother's education      22710 non-null  object\n",
      " 3   Birth weight            22710 non-null  object\n",
      " 4   Age of infant at death  22710 non-null  object\n",
      " 5   Deaths                  22710 non-null  object\n",
      " 6   Births                  22710 non-null  object\n",
      " 7   Death rate per 1000     22710 non-null  object\n",
      " 8   Year                    22710 non-null  int64 \n",
      "dtypes: int64(1), object(8)\n",
      "memory usage: 1.6+ MB\n"
     ]
    }
   ],
   "source": [
    "dataset_1999_2022 =  pd.concat([dataset_1999_2002, dataset_2003_2006, dataset_2007_2022], ignore_index=True)\n",
    "dataset_1999_2022.info()"
   ]
  },
  {
   "cell_type": "code",
   "execution_count": 8,
   "metadata": {},
   "outputs": [
    {
     "data": {
      "text/html": [
       "<div>\n",
       "<style scoped>\n",
       "    .dataframe tbody tr th:only-of-type {\n",
       "        vertical-align: middle;\n",
       "    }\n",
       "\n",
       "    .dataframe tbody tr th {\n",
       "        vertical-align: top;\n",
       "    }\n",
       "\n",
       "    .dataframe thead th {\n",
       "        text-align: right;\n",
       "    }\n",
       "</style>\n",
       "<table border=\"1\" class=\"dataframe\">\n",
       "  <thead>\n",
       "    <tr style=\"text-align: right;\">\n",
       "      <th></th>\n",
       "      <th>Cause of death</th>\n",
       "      <th>Age of mother</th>\n",
       "      <th>Mother's education</th>\n",
       "      <th>Birth weight</th>\n",
       "      <th>Age of infant at death</th>\n",
       "      <th>Deaths</th>\n",
       "      <th>Births</th>\n",
       "      <th>Death rate per 1000</th>\n",
       "      <th>Year</th>\n",
       "    </tr>\n",
       "  </thead>\n",
       "  <tbody>\n",
       "    <tr>\n",
       "      <th>0</th>\n",
       "      <td>Certain infectious and parasitic diseases (A00...</td>\n",
       "      <td>15-19 years</td>\n",
       "      <td>9 - 11 years</td>\n",
       "      <td>500 - 999 grams</td>\n",
       "      <td>28 - 364 days</td>\n",
       "      <td>14.0</td>\n",
       "      <td>1927.0</td>\n",
       "      <td>7.39 (Unreliable)</td>\n",
       "      <td>1999</td>\n",
       "    </tr>\n",
       "    <tr>\n",
       "      <th>1</th>\n",
       "      <td>Certain infectious and parasitic diseases (A00...</td>\n",
       "      <td>15-19 years</td>\n",
       "      <td>9 - 11 years</td>\n",
       "      <td>2500 - 2999 grams</td>\n",
       "      <td>28 - 364 days</td>\n",
       "      <td>11.0</td>\n",
       "      <td>55119.0</td>\n",
       "      <td>0.20 (Unreliable)</td>\n",
       "      <td>1999</td>\n",
       "    </tr>\n",
       "    <tr>\n",
       "      <th>2</th>\n",
       "      <td>Certain infectious and parasitic diseases (A00...</td>\n",
       "      <td>15-19 years</td>\n",
       "      <td>9 - 11 years</td>\n",
       "      <td>3000 - 3499 grams</td>\n",
       "      <td>28 - 364 days</td>\n",
       "      <td>10.0</td>\n",
       "      <td>99462.0</td>\n",
       "      <td>0.10 (Unreliable)</td>\n",
       "      <td>1999</td>\n",
       "    </tr>\n",
       "    <tr>\n",
       "      <th>3</th>\n",
       "      <td>Certain infectious and parasitic diseases (A00...</td>\n",
       "      <td>20-24 years</td>\n",
       "      <td>9 - 11 years</td>\n",
       "      <td>500 - 999 grams</td>\n",
       "      <td>28 - 364 days</td>\n",
       "      <td>15.0</td>\n",
       "      <td>1179.0</td>\n",
       "      <td>12.90 (Unreliable)</td>\n",
       "      <td>1999</td>\n",
       "    </tr>\n",
       "    <tr>\n",
       "      <th>4</th>\n",
       "      <td>Certain infectious and parasitic diseases (A00...</td>\n",
       "      <td>20-24 years</td>\n",
       "      <td>12 years</td>\n",
       "      <td>500 - 999 grams</td>\n",
       "      <td>28 - 364 days</td>\n",
       "      <td>17.0</td>\n",
       "      <td>2490.0</td>\n",
       "      <td>6.93 (Unreliable)</td>\n",
       "      <td>1999</td>\n",
       "    </tr>\n",
       "  </tbody>\n",
       "</table>\n",
       "</div>"
      ],
      "text/plain": [
       "                                      Cause of death Age of mother  \\\n",
       "0  Certain infectious and parasitic diseases (A00...   15-19 years   \n",
       "1  Certain infectious and parasitic diseases (A00...   15-19 years   \n",
       "2  Certain infectious and parasitic diseases (A00...   15-19 years   \n",
       "3  Certain infectious and parasitic diseases (A00...   20-24 years   \n",
       "4  Certain infectious and parasitic diseases (A00...   20-24 years   \n",
       "\n",
       "  Mother's education       Birth weight Age of infant at death  Deaths  \\\n",
       "0       9 - 11 years    500 - 999 grams          28 - 364 days    14.0   \n",
       "1       9 - 11 years  2500 - 2999 grams          28 - 364 days    11.0   \n",
       "2       9 - 11 years  3000 - 3499 grams          28 - 364 days    10.0   \n",
       "3       9 - 11 years    500 - 999 grams          28 - 364 days    15.0   \n",
       "4           12 years    500 - 999 grams          28 - 364 days    17.0   \n",
       "\n",
       "    Births Death rate per 1000  Year  \n",
       "0   1927.0   7.39 (Unreliable)  1999  \n",
       "1  55119.0   0.20 (Unreliable)  1999  \n",
       "2  99462.0   0.10 (Unreliable)  1999  \n",
       "3   1179.0  12.90 (Unreliable)  1999  \n",
       "4   2490.0   6.93 (Unreliable)  1999  "
      ]
     },
     "execution_count": 8,
     "metadata": {},
     "output_type": "execute_result"
    }
   ],
   "source": [
    "dataset_1999_2022 = pd.read_csv('./DATA/infant_mortality_data_1999_2022.csv')\n",
    "dataset_1999_2022.head()"
   ]
  },
  {
   "cell_type": "markdown",
   "metadata": {},
   "source": [
    "### **Chuyển thành file csv**"
   ]
  },
  {
   "cell_type": "code",
   "execution_count": 11,
   "metadata": {},
   "outputs": [],
   "source": [
    "dataset_1999_2022.to_csv('./DATA/infant_mortality_data_1999_2022.csv', index=False)"
   ]
  },
  {
   "cell_type": "markdown",
   "metadata": {},
   "source": [
    "## **Lấy thêm các thuộc tính mở rộng liên quan đến chủ đề bộ dữ liệu từ năm 2017 đến năm 2022**"
   ]
  },
  {
   "cell_type": "code",
   "execution_count": null,
   "metadata": {},
   "outputs": [],
   "source": [
    "# Create an empty DataFrame with the specified columns plus a 'year' column\n",
    "columns = [\"Cause of death\", \"NICU Admission\", \"Antibiotics for Mother\", \"Mother's Pre-pregnancy BMI\", \"Infant birth weight\", \"Deaths\", \"Births\", \"Death rate per 1000\"]\n",
    "dataset_expanded = pd.DataFrame(columns=columns)\n",
    "dataset_expanded['Year'] = pd.Series(dtype='int')\n",
    "\n",
    "url = \"https://wonder.cdc.gov/controller/datarequest/D159\"\n",
    "\n",
    "with open('./DATA/Request_XML/request_2017_2022_expanded.xml', 'r') as file:\n",
    "    lines = file.readlines()\n",
    "\n",
    "for year in range(2017, 2023):\n",
    "    lines[773] = f'\\t\\t<value>{str(year)}</value>\\n'\n",
    "    xml_request = ''.join(lines)\n",
    "\n",
    "    response = requests.post(url, data={\"request_xml\": xml_request, \"accept_datause_restrictions\": \"true\"})\n",
    "\n",
    "    if response.status_code == 200:\n",
    "        data = response.text \n",
    "        data_frame = xml2df(data)\n",
    "\n",
    "        new_data = pd.DataFrame(data=data_frame, columns=columns)\n",
    "        new_data['Year'] = year  # Add the year column\n",
    "        dataset_expanded = pd.concat([dataset_expanded, new_data], ignore_index=True)\n",
    "    else:\n",
    "        print(f\"Something went wrong for year {year}\")\n",
    "\n",
    "    # Wait for 2 minutes before making the next request\n",
    "    time.sleep(90)"
   ]
  },
  {
   "cell_type": "code",
   "execution_count": 7,
   "metadata": {},
   "outputs": [
    {
     "name": "stdout",
     "output_type": "stream",
     "text": [
      "<class 'pandas.core.frame.DataFrame'>\n",
      "RangeIndex: 1443 entries, 0 to 1442\n",
      "Data columns (total 9 columns):\n",
      " #   Column                      Non-Null Count  Dtype \n",
      "---  ------                      --------------  ----- \n",
      " 0   Cause of death              1443 non-null   object\n",
      " 1   NICU Admission              1443 non-null   object\n",
      " 2   Antibiotics for Mother      1443 non-null   object\n",
      " 3   Mother's Pre-pregnancy BMI  1443 non-null   object\n",
      " 4   Infant birth weight         1443 non-null   object\n",
      " 5   Deaths                      1443 non-null   object\n",
      " 6   Births                      1443 non-null   object\n",
      " 7   Death rate per 1000         1443 non-null   object\n",
      " 8   Year                        1443 non-null   int64 \n",
      "dtypes: int64(1), object(8)\n",
      "memory usage: 101.6+ KB\n"
     ]
    }
   ],
   "source": [
    "dataset_expanded.info()\n",
    "dataset_expanded.to_csv('./DATA/infant_mortality_data_expanded_2017_2022.csv', index=False)"
   ]
  }
 ],
 "metadata": {
  "kernelspec": {
   "display_name": "min_ds-env",
   "language": "python",
   "name": "python3"
  },
  "language_info": {
   "codemirror_mode": {
    "name": "ipython",
    "version": 3
   },
   "file_extension": ".py",
   "mimetype": "text/x-python",
   "name": "python",
   "nbconvert_exporter": "python",
   "pygments_lexer": "ipython3",
   "version": "3.10.15"
  }
 },
 "nbformat": 4,
 "nbformat_minor": 2
}
