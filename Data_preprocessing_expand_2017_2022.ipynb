{
 "cells": [
  {
   "cell_type": "markdown",
   "metadata": {},
   "source": [
    "## cleaned_df Pre-Processing "
   ]
  },
  {
   "cell_type": "markdown",
   "metadata": {},
   "source": [
    "### Khai báo một số thư viện sẽ sử dụng trong quá trình xử lí. "
   ]
  },
  {
   "cell_type": "code",
   "execution_count": 1,
   "metadata": {},
   "outputs": [],
   "source": [
    "import pandas as pd \n",
    "import numpy as np\n",
    "import sys  \n",
    "import re \n"
   ]
  },
  {
   "cell_type": "code",
   "execution_count": 2,
   "metadata": {},
   "outputs": [
    {
     "name": "stdout",
     "output_type": "stream",
     "text": [
      "/home/huylee/DataScience/Final_project\n"
     ]
    }
   ],
   "source": [
    "!pwd "
   ]
  },
  {
   "cell_type": "markdown",
   "metadata": {},
   "source": [
    "### Đầu tiên, ta tiến hành đọc dữ liệu từ file "
   ]
  },
  {
   "cell_type": "code",
   "execution_count": 3,
   "metadata": {},
   "outputs": [],
   "source": [
    "raw_df = pd.read_csv('DATA/infant_mortality_data_expanded_2017_2022.csv', sep=',', quotechar='\"', header=0)"
   ]
  },
  {
   "cell_type": "code",
   "execution_count": 4,
   "metadata": {},
   "outputs": [
    {
     "data": {
      "text/html": [
       "<div>\n",
       "<style scoped>\n",
       "    .dataframe tbody tr th:only-of-type {\n",
       "        vertical-align: middle;\n",
       "    }\n",
       "\n",
       "    .dataframe tbody tr th {\n",
       "        vertical-align: top;\n",
       "    }\n",
       "\n",
       "    .dataframe thead th {\n",
       "        text-align: right;\n",
       "    }\n",
       "</style>\n",
       "<table border=\"1\" class=\"dataframe\">\n",
       "  <thead>\n",
       "    <tr style=\"text-align: right;\">\n",
       "      <th></th>\n",
       "      <th>Cause of death</th>\n",
       "      <th>NICU Admission</th>\n",
       "      <th>Antibiotics for Mother</th>\n",
       "      <th>Mother's Pre-pregnancy BMI</th>\n",
       "      <th>Infant birth weight</th>\n",
       "      <th>Deaths</th>\n",
       "      <th>Births</th>\n",
       "      <th>Death rate per 1000</th>\n",
       "      <th>Year</th>\n",
       "    </tr>\n",
       "  </thead>\n",
       "  <tbody>\n",
       "    <tr>\n",
       "      <th>0</th>\n",
       "      <td>Other and unspecified gastroenteritis and coli...</td>\n",
       "      <td>Yes</td>\n",
       "      <td>Yes</td>\n",
       "      <td>Overweight 25.0-29.9</td>\n",
       "      <td>500 - 749 grams</td>\n",
       "      <td>12.0</td>\n",
       "      <td>726.0</td>\n",
       "      <td>16.56 (Unreliable)</td>\n",
       "      <td>2017</td>\n",
       "    </tr>\n",
       "    <tr>\n",
       "      <th>1</th>\n",
       "      <td>Other and unspecified gastroenteritis and coli...</td>\n",
       "      <td>Yes</td>\n",
       "      <td>No</td>\n",
       "      <td>Normal 18.5-24.9</td>\n",
       "      <td>500 - 749 grams</td>\n",
       "      <td>13.0</td>\n",
       "      <td>1254.0</td>\n",
       "      <td>10.40 (Unreliable)</td>\n",
       "      <td>2017</td>\n",
       "    </tr>\n",
       "    <tr>\n",
       "      <th>2</th>\n",
       "      <td>Other and unspecified gastroenteritis and coli...</td>\n",
       "      <td>Yes</td>\n",
       "      <td>No</td>\n",
       "      <td>Normal 18.5-24.9</td>\n",
       "      <td>750 - 999 grams</td>\n",
       "      <td>10.0</td>\n",
       "      <td>1701.0</td>\n",
       "      <td>5.88 (Unreliable)</td>\n",
       "      <td>2017</td>\n",
       "    </tr>\n",
       "    <tr>\n",
       "      <th>3</th>\n",
       "      <td>Other and unspecified gastroenteritis and coli...</td>\n",
       "      <td>Yes</td>\n",
       "      <td>No</td>\n",
       "      <td>Overweight 25.0-29.9</td>\n",
       "      <td>500 - 749 grams</td>\n",
       "      <td>12.0</td>\n",
       "      <td>994.0</td>\n",
       "      <td>12.08 (Unreliable)</td>\n",
       "      <td>2017</td>\n",
       "    </tr>\n",
       "    <tr>\n",
       "      <th>4</th>\n",
       "      <td>Newborn affected by incompetent cervix</td>\n",
       "      <td>No</td>\n",
       "      <td>Yes</td>\n",
       "      <td>Normal 18.5-24.9</td>\n",
       "      <td>499 grams or less</td>\n",
       "      <td>12.0</td>\n",
       "      <td>270.0</td>\n",
       "      <td>45.00 (Unreliable)</td>\n",
       "      <td>2017</td>\n",
       "    </tr>\n",
       "  </tbody>\n",
       "</table>\n",
       "</div>"
      ],
      "text/plain": [
       "                                      Cause of death NICU Admission  \\\n",
       "0  Other and unspecified gastroenteritis and coli...            Yes   \n",
       "1  Other and unspecified gastroenteritis and coli...            Yes   \n",
       "2  Other and unspecified gastroenteritis and coli...            Yes   \n",
       "3  Other and unspecified gastroenteritis and coli...            Yes   \n",
       "4             Newborn affected by incompetent cervix             No   \n",
       "\n",
       "  Antibiotics for Mother Mother's Pre-pregnancy BMI Infant birth weight  \\\n",
       "0                    Yes       Overweight 25.0-29.9     500 - 749 grams   \n",
       "1                     No           Normal 18.5-24.9     500 - 749 grams   \n",
       "2                     No           Normal 18.5-24.9     750 - 999 grams   \n",
       "3                     No       Overweight 25.0-29.9     500 - 749 grams   \n",
       "4                    Yes           Normal 18.5-24.9   499 grams or less   \n",
       "\n",
       "   Deaths  Births Death rate per 1000  Year  \n",
       "0    12.0   726.0  16.56 (Unreliable)  2017  \n",
       "1    13.0  1254.0  10.40 (Unreliable)  2017  \n",
       "2    10.0  1701.0   5.88 (Unreliable)  2017  \n",
       "3    12.0   994.0  12.08 (Unreliable)  2017  \n",
       "4    12.0   270.0  45.00 (Unreliable)  2017  "
      ]
     },
     "execution_count": 4,
     "metadata": {},
     "output_type": "execute_result"
    }
   ],
   "source": [
    "raw_df.head()"
   ]
  },
  {
   "cell_type": "markdown",
   "metadata": {},
   "source": [
    "### Số lượng cột và hàng của mẫu. "
   ]
  },
  {
   "cell_type": "code",
   "execution_count": 5,
   "metadata": {},
   "outputs": [],
   "source": [
    "shape = raw_df.shape"
   ]
  },
  {
   "cell_type": "code",
   "execution_count": 6,
   "metadata": {},
   "outputs": [
    {
     "name": "stdout",
     "output_type": "stream",
     "text": [
      "Số lượng dòng và cột: (1443, 9)\n",
      "số lượng mẫu đạt yêu cầu\n"
     ]
    }
   ],
   "source": [
    "# TESTING: \n",
    "print(f'Số lượng dòng và cột: {shape}')\n",
    "\n",
    "if shape[0] > 1000:\n",
    "    print(\"số lượng mẫu đạt yêu cầu\")\n",
    "else: \n",
    "    print(\"số lượng mẫu không đạt yêu cầu, ta cần thêm dữ liệu\")\n",
    "\n"
   ]
  },
  {
   "cell_type": "markdown",
   "metadata": {},
   "source": [
    "### Mẫu có tồn tại trùng lặp không ? \n",
    "- sau khi ta đã xác định có số lượng mẫu đủ để tiếp tục xử lí thì tiến hành kiểm tra sự trung lặp `num_duplicated_rows` để giảm bớt các mẫu không cần thiết.  "
   ]
  },
  {
   "cell_type": "code",
   "execution_count": 7,
   "metadata": {},
   "outputs": [],
   "source": [
    "num_duplicates = raw_df.duplicated().sum()"
   ]
  },
  {
   "cell_type": "code",
   "execution_count": 8,
   "metadata": {},
   "outputs": [
    {
     "name": "stdout",
     "output_type": "stream",
     "text": [
      "Không có dòng nào bị trùng\n"
     ]
    }
   ],
   "source": [
    "# TESTING:\n",
    "if num_duplicates > 0:\n",
    "    print(f'Số lượng dòng bị trùng: {num_duplicates}')\n",
    "    print(\"Bạn cần xử lý dữ liệu trùng lặp\")\n",
    "else: \n",
    "    print(\"Không có dòng nào bị trùng\")"
   ]
  },
  {
   "cell_type": "markdown",
   "metadata": {},
   "source": [
    "sau khi kiểm tra ta thấy dữ liệu không còn trùng lặp ta tiếp tục đi sau hơn vào từng cột.  "
   ]
  },
  {
   "cell_type": "markdown",
   "metadata": {},
   "source": [
    "### Các cột trong mẫu có ý nghĩa như thế nào?  \n",
    "Để kiểm tra ý nghĩa của từng cột: \n",
    "- Ta lấy của các cột thông tin từ `raw_`. \n",
    "- Do chưa được mã hóa nên cột mang ý nghĩa của chính nó mà không phải thông qua giải thích.  \n",
    "- Tiếp đó ta `hiển thị` các cột được lấy lên màn hình để quan sát. "
   ]
  },
  {
   "cell_type": "code",
   "execution_count": null,
   "metadata": {},
   "outputs": [
    {
     "ename": "AttributeError",
     "evalue": "module 'pandas' has no attribute 'Frame'",
     "output_type": "error",
     "traceback": [
      "\u001b[0;31m---------------------------------------------------------------------------\u001b[0m",
      "\u001b[0;31mAttributeError\u001b[0m                            Traceback (most recent call last)",
      "Cell \u001b[0;32mIn[9], line 1\u001b[0m\n\u001b[0;32m----> 1\u001b[0m col_mean \u001b[38;5;241m=\u001b[39m \u001b[43mpd\u001b[49m\u001b[38;5;241;43m.\u001b[39;49m\u001b[43mFrame\u001b[49m(raw_df\u001b[38;5;241m.\u001b[39mcolumns, columns\u001b[38;5;241m=\u001b[39m[\u001b[38;5;124m'\u001b[39m\u001b[38;5;124mMeaning\u001b[39m\u001b[38;5;124m'\u001b[39m])\n",
      "File \u001b[0;32m/home/huylee/anaconda3/envs/min_ds-env/lib/python3.10/site-packages/pandas/__init__.py:264\u001b[0m, in \u001b[0;36m__getattr__\u001b[0;34m(name)\u001b[0m\n\u001b[1;32m    260\u001b[0m     \u001b[38;5;28;01mfrom\u001b[39;00m \u001b[38;5;21;01mpandas\u001b[39;00m\u001b[38;5;21;01m.\u001b[39;00m\u001b[38;5;21;01mcore\u001b[39;00m\u001b[38;5;21;01m.\u001b[39;00m\u001b[38;5;21;01marrays\u001b[39;00m\u001b[38;5;21;01m.\u001b[39;00m\u001b[38;5;21;01msparse\u001b[39;00m \u001b[38;5;28;01mimport\u001b[39;00m SparseArray \u001b[38;5;28;01mas\u001b[39;00m _SparseArray\n\u001b[1;32m    262\u001b[0m     \u001b[38;5;28;01mreturn\u001b[39;00m _SparseArray\n\u001b[0;32m--> 264\u001b[0m \u001b[38;5;28;01mraise\u001b[39;00m \u001b[38;5;167;01mAttributeError\u001b[39;00m(\u001b[38;5;124mf\u001b[39m\u001b[38;5;124m\"\u001b[39m\u001b[38;5;124mmodule \u001b[39m\u001b[38;5;124m'\u001b[39m\u001b[38;5;124mpandas\u001b[39m\u001b[38;5;124m'\u001b[39m\u001b[38;5;124m has no attribute \u001b[39m\u001b[38;5;124m'\u001b[39m\u001b[38;5;132;01m{\u001b[39;00mname\u001b[38;5;132;01m}\u001b[39;00m\u001b[38;5;124m'\u001b[39m\u001b[38;5;124m\"\u001b[39m)\n",
      "\u001b[0;31mAttributeError\u001b[0m: module 'pandas' has no attribute 'Frame'"
     ]
    }
   ],
   "source": [
    "col_mean = pd.DataFrame(raw_df.columns, columns=['Meaning'])"
   ]
  },
  {
   "cell_type": "code",
   "execution_count": null,
   "metadata": {},
   "outputs": [],
   "source": [
    "col_mean"
   ]
  },
  {
   "cell_type": "markdown",
   "metadata": {},
   "source": [
    "Tại đây ta nên dừng lại một chút để đọc lại và hiểu kĩ hơn về các cột. Đồng thời chúng ta có thể nhận thấy được các cột trên sẽ có thể mang những kiểu dữ liệu, cách biểu diễn phù hợp. "
   ]
  },
  {
   "cell_type": "markdown",
   "metadata": {},
   "source": [
    "### Kiểu dữ liêu của từng cột là gì? Dữ liều này có hợp lý hay không, có cần phải chuyển đổi các dữ liệu không? "
   ]
  },
  {
   "cell_type": "code",
   "execution_count": null,
   "metadata": {},
   "outputs": [],
   "source": [
    "dtypes = raw_df.dtypes"
   ]
  },
  {
   "cell_type": "code",
   "execution_count": null,
   "metadata": {},
   "outputs": [],
   "source": [
    "dtypes"
   ]
  },
  {
   "cell_type": "markdown",
   "metadata": {},
   "source": [
    "#### Ta tiến hành xem lại và xử lí từng côt dữ liệu nếu chưa hợp lí. "
   ]
  },
  {
   "cell_type": "code",
   "execution_count": null,
   "metadata": {},
   "outputs": [],
   "source": [
    "raw_df.head(10)"
   ]
  },
  {
   "cell_type": "markdown",
   "metadata": {},
   "source": [
    "Sau khi quan sát lại thì ta thấy dữ liệu thu thập được đa phần ở dạng `text` và không thể xử lí trực tiếp được. Vì vậy ta cần chuyển đổi nó về các dạng/kiểu dữ liệu tốt hơn để tiến hành lưu trữ, phù hợp cho các bước tiếp theo. "
   ]
  },
  {
   "cell_type": "markdown",
   "metadata": {},
   "source": [
    "### Tiến hành xử lí cột `Cause of death`. \n",
    "Các bước xử lí:\n",
    "- Lấy ra dữ liệu của cột `Cause of death`. \n",
    "- Sau đó trích xuất ra các giá trị xuất hiện trong cột. "
   ]
  },
  {
   "cell_type": "code",
   "execution_count": null,
   "metadata": {},
   "outputs": [],
   "source": [
    "cause_of_death_col = raw_df['Cause of death']\n",
    "\n",
    "cause_of_death_col_unique = cause_of_death_col.unique()"
   ]
  },
  {
   "cell_type": "code",
   "execution_count": null,
   "metadata": {},
   "outputs": [],
   "source": [
    "print(f\"số lượng khả năng gây tử vong {len(cause_of_death_col_unique)}\")\n",
    "print(cause_of_death_col_unique)"
   ]
  },
  {
   "cell_type": "code",
   "execution_count": null,
   "metadata": {},
   "outputs": [],
   "source": [
    "cause_count = cause_of_death_col.value_counts()\n",
    "\n",
    "cause_percentage = ((cause_count / cause_count.sum()) * 100).round(1)\n",
    "\n",
    "# chuyển thành DataFrame để dễ dàng quan sát. \n",
    "cause_df = cause_percentage.reset_index()\n",
    "cause_df.columns = [\"Cause of death\", \"Percentage\"]\n",
    "\n",
    "# Sắp xếp theo tỷ lệ giảm dần (nếu cần)\n",
    "cause_df = cause_df.sort_values(by=\"Percentage\", ascending=False)"
   ]
  },
  {
   "cell_type": "code",
   "execution_count": null,
   "metadata": {},
   "outputs": [],
   "source": [
    "\n",
    "sum_of_percentage_greater_than_1 = 0\n",
    "for i in range(cause_df.shape[0]):\n",
    "    if cause_df['Percentage'][i] >= 1:\n",
    "        sum_of_percentage_greater_than_1 += cause_df['Percentage'][i]\n",
    "        print(f\"{cause_df['Cause of death'][i]}: {cause_df['Percentage'][i]}%\")\n",
    "\n",
    "\n",
    "print(f\"\\ntổng tỷ lệ lớn hơn hoặc bằng 1%: {sum_of_percentage_greater_than_1}%\")\n",
    "print(f\"tổng tỷ lệ nhỏ hơn 1%: {100 - sum_of_percentage_greater_than_1}%\")"
   ]
  },
  {
   "cell_type": "markdown",
   "metadata": {},
   "source": [
    "Sau khi quan sát kết quả trên thì ta thấy rằng có thể rút rọn các thông tin lại ít hơn và các tỉ lệ nhỏ hơn 1% ta có thể chuẩn hóa nó thành 1 giá trị riêng là `other cause`. "
   ]
  },
  {
   "cell_type": "code",
   "execution_count": null,
   "metadata": {},
   "outputs": [],
   "source": [
    "# Bảng ánh xạ tên đầy đủ sang tên rút gọn\n",
    "cause_mapping = {\n",
    "    \"Extreme immaturity\": \"Extreme immaturity\",\n",
    "    \"Sudden infant death syndrome - SIDS\": \"SIDS\",\n",
    "    \"Other ill-defined and unspecified causes of mortality\": \"Unspecified causes\",\n",
    "    \"Accidental suffocation and strangulation in bed\": \"Accidental suffocation\",\n",
    "    \"Other preterm infants\": \"Other preterm infants\",\n",
    "    \"Newborn affected by premature rupture of membranes\": \"Premature rupture\",\n",
    "    \"Edwards syndrome, unspecified\": \"Edwards syndrome\",\n",
    "    \"Respiratory distress syndrome of newborn\": \"Respiratory distress\",\n",
    "    \"Bacterial sepsis of newborn, unspecified\": \"Bacterial sepsis\",\n",
    "    \"Newborn affected by incompetent cervix\": \"Incompetent cervix\",\n",
    "    \"Newborn affected by chorioamnionitis\": \"Chorioamnionitis\",\n",
    "    \"Necrotizing enterocolitis of newborn\": \"Necrotizing enterocolitis\",\n",
    "    \"Congenital malformation of heart, unspecified\": \"Congenital heart defect\",\n",
    "    \"Neonatal cardiac dysrhythmia\": \"Cardiac dysrhythmia\",\n",
    "    \"Unspecified intraventricular (nontraumatic) haemorrhage of newborn\": \"Intraventricular haemorrhage\",\n",
    "    \"Anencephaly\": \"Anencephaly\",\n",
    "    \"Newborn affected by other forms of placental separation and haemorrhage\": \"Placental separation\",\n",
    "    \"Neonatal cardiac failure\": \"Cardiac failure\",\n",
    "    \"Hypoxic ischemic encephalopathy of newborn\": \"HIE of newborn\"  \n",
    "}\n",
    "\n",
    "# Hàm thay thế giá trị, nếu không có trong bảng ánh xạ thì thay thành 'Other causes'\n",
    "def replace_causes(cause_name):\n",
    "    return cause_mapping.get(cause_name, \"Other causes\")\n",
    "\n",
    "# Áp dụng thay thế trên cột \"Cause of death\"\n",
    "raw_df[\"Cause of death\"] = raw_df[\"Cause of death\"].apply(replace_causes)\n",
    "\n",
    "# Kiểm tra kết quả\n",
    "print(raw_df[\"Cause of death\"].value_counts())\n"
   ]
  },
  {
   "cell_type": "markdown",
   "metadata": {},
   "source": [
    "`Chú ý:` Mặc dù chúng ta đã chuyển đổi dữ liệu về các dạng dễ hơn. Tuy nhiên vẫn có một số bất cập với giá trị `Other cause` vì đây là tổng hợp của các giá trị nhỏ và có thể gần như không có ý nghĩa đối với việc phân tích, Nhưng với số lượng chiếm 4% tổng số (>1000 mẫu) ta có thể cân nhắc việc loại bỏ giá trị này."
   ]
  },
  {
   "cell_type": "code",
   "execution_count": null,
   "metadata": {},
   "outputs": [],
   "source": [
    "raw_df.head(10)"
   ]
  },
  {
   "cell_type": "markdown",
   "metadata": {},
   "source": [
    "### Tiến hành xử lí cột `NICU Admission` và `Antibiotics for Mother`.  \n",
    "Có thể thấy hai cột trên mạng dữ liệu là `Yes` và `No`. Do đó ta sẽ chuyển dữ liệu về dạng số `1` và `0` để có thể dễ dàng xử lí.  "
   ]
  },
  {
   "cell_type": "code",
   "execution_count": null,
   "metadata": {},
   "outputs": [],
   "source": [
    "raw_df['NICU Admission'] = raw_df['NICU Admission'].map({'Yes': 1, 'No': 0})\n",
    "raw_df['Antibiotics for Mother'] = raw_df['Antibiotics for Mother'].map({'Yes': 1, 'No': 0})"
   ]
  },
  {
   "cell_type": "code",
   "execution_count": null,
   "metadata": {},
   "outputs": [],
   "source": [
    "raw_df.head(5)"
   ]
  },
  {
   "cell_type": "markdown",
   "metadata": {},
   "source": [
    "### Xử lí cột `Mother's Pre-prehnancy BMI`. "
   ]
  },
  {
   "cell_type": "code",
   "execution_count": null,
   "metadata": {},
   "outputs": [],
   "source": [
    "mother_pre_col = raw_df[\"Mother's Pre-pregnancy BMI\"]\n",
    "\n",
    "mother_pre_col_unique = mother_pre_col.unique()\n",
    "mother_pre_col_unique"
   ]
  },
  {
   "cell_type": "markdown",
   "metadata": {},
   "source": [
    "Thông qua các giá trị xuất hiện trong cột, ta thực hiện mapping dưới dạng số."
   ]
  },
  {
   "cell_type": "code",
   "execution_count": null,
   "metadata": {},
   "outputs": [],
   "source": [
    "bmi_mapping = {\n",
    "    'Underweight <18.5': 0,\n",
    "    'Normal 18.5-24.9': 1,\n",
    "    'Overweight 25.0-29.9': 2,\n",
    "    'Obesity I 30.0-34.9': 3,\n",
    "    'Obesity II 35.0-39.9': 4,\n",
    "    'Extreme Obesity III > 39.9': 5,\n",
    "    'Unknown or Not Stated': -1\n",
    "}\n",
    "\n",
    "# Thay thế giá trị trong cột\n",
    "raw_df[\"Mother's Pre-pregnancy BMI\"] = raw_df[\"Mother's Pre-pregnancy BMI\"].map(bmi_mapping)"
   ]
  },
  {
   "cell_type": "markdown",
   "metadata": {},
   "source": [
    "### Xử lí cột `Infant birth weight`."
   ]
  },
  {
   "cell_type": "code",
   "execution_count": null,
   "metadata": {},
   "outputs": [],
   "source": [
    "infant_birth_weight_col = raw_df[\"Infant birth weight\"]\n",
    "\n",
    "infant_birth_weight_col_unique = infant_birth_weight_col.unique()\n",
    "infant_birth_weight_col_unique"
   ]
  },
  {
   "cell_type": "markdown",
   "metadata": {},
   "source": [
    "Hiện tại ta thấy cột trên là biểu diễn về trọng lượng của trẻ khi sinh đo đó ta sẽ chuyển đổi giá trị về giá trị trung bình. "
   ]
  },
  {
   "cell_type": "code",
   "execution_count": null,
   "metadata": {},
   "outputs": [],
   "source": [
    "def convert_to_mean(weight_str):\n",
    "    # Xử lý khoảng giá trị (e.g., \"500 - 749 grams\")\n",
    "    match = re.match(r\"(\\d+)\\s*-\\s*(\\d+)\", weight_str)\n",
    "    if match:\n",
    "        low, high = map(int, match.groups())\n",
    "        return (low + high) / 2  # Trả về trung bình\n",
    "    \n",
    "    # Xử lý \"less\" hoặc \"more\" (e.g., \"499 grams or less\")\n",
    "    match = re.match(r\"(\\d+)\\s*grams or less\", weight_str)\n",
    "    if match:\n",
    "        return int(match.group(1)) / 2  # Trả về trung bình\n",
    "    \n",
    "    # Nếu không khớp định dạng\n",
    "    return None\n",
    "\n",
    "# Áp dụng cho cột \"Infant birth weight\"\n",
    "raw_df[\"Infant birth weight\"] = raw_df[\"Infant birth weight\"].apply(convert_to_mean)"
   ]
  },
  {
   "cell_type": "markdown",
   "metadata": {},
   "source": [
    "### Xử lí cột `Death rate per 1000`. \n",
    "- Trong phần này ta sẽ cố gắng loại bỏ các phần `text` trong giá trị của cột. "
   ]
  },
  {
   "cell_type": "code",
   "execution_count": null,
   "metadata": {},
   "outputs": [],
   "source": [
    "raw_df[\"Death rate per 1000\"] = raw_df[\"Death rate per 1000\"].str.replace(r\"\\s*\\(Unreliable\\)\", \"\", regex=True).astype(float)\n"
   ]
  },
  {
   "cell_type": "code",
   "execution_count": null,
   "metadata": {},
   "outputs": [],
   "source": [
    "raw_df.head(10)"
   ]
  },
  {
   "cell_type": "markdown",
   "metadata": {},
   "source": [
    "### Kiểm tra lại kiểu dữ liệu của từng cột và chuyển đổi lại nếu cần thiết. "
   ]
  },
  {
   "cell_type": "code",
   "execution_count": null,
   "metadata": {},
   "outputs": [],
   "source": [
    "raw_df.dtypes"
   ]
  },
  {
   "cell_type": "markdown",
   "metadata": {},
   "source": [
    "chuyển đổi `Deaths` và `Births` về dạng dữ liệu `int64`"
   ]
  },
  {
   "cell_type": "code",
   "execution_count": null,
   "metadata": {},
   "outputs": [],
   "source": [
    "raw_df['Deaths'] = raw_df['Deaths'].astype('int64')\n",
    "raw_df['Births'] = raw_df['Births'].astype('int64')"
   ]
  },
  {
   "cell_type": "code",
   "execution_count": null,
   "metadata": {},
   "outputs": [],
   "source": [
    "raw_df.dtypes"
   ]
  },
  {
   "cell_type": "markdown",
   "metadata": {},
   "source": [
    "### Kiểm tra lại có tồn tại giá trị thiếu (missing value) để tiếp tục xử lí."
   ]
  },
  {
   "cell_type": "code",
   "execution_count": null,
   "metadata": {},
   "outputs": [],
   "source": [
    "missing_per_column = raw_df.isnull().sum()\n",
    "print(\"Số giá trị missing theo từng cột:\")\n",
    "print(missing_per_column)"
   ]
  },
  {
   "cell_type": "markdown",
   "metadata": {},
   "source": [
    "### lưu dữ liệu vào file để hoàn tất quá trình tiền xử lí (pre-processing)  "
   ]
  },
  {
   "cell_type": "code",
   "execution_count": null,
   "metadata": {},
   "outputs": [],
   "source": [
    "raw_df.to_csv('DATA/infant_mortality_data_2017_2022_cleaned.csv', index=False)"
   ]
  },
  {
   "cell_type": "markdown",
   "metadata": {},
   "source": [
    "## Explore Data"
   ]
  },
  {
   "cell_type": "markdown",
   "metadata": {},
   "source": [
    "### Khai báo một số thư viện sử dụng để trực quan dữ liệu"
   ]
  },
  {
   "cell_type": "code",
   "execution_count": null,
   "metadata": {},
   "outputs": [],
   "source": [
    "import matplotlib.pyplot as plt\n",
    "import seaborn as sns"
   ]
  },
  {
   "cell_type": "markdown",
   "metadata": {},
   "source": [
    "### Ta tiến hành đọc dữ liệu đã được tiền xử lí từ "
   ]
  },
  {
   "cell_type": "code",
   "execution_count": null,
   "metadata": {},
   "outputs": [],
   "source": [
    "cleaned_df = pd.read_csv('DATA/infant_mortality_data_2017_2022_cleaned.csv')"
   ]
  },
  {
   "cell_type": "code",
   "execution_count": null,
   "metadata": {},
   "outputs": [],
   "source": [
    "cleaned_df.head(10)"
   ]
  },
  {
   "cell_type": "markdown",
   "metadata": {},
   "source": [
    "### Ta sẽ sử dụng biểu đồ bar plot để biểu diễn tần xuất các giá trị trong từng cột.\n"
   ]
  },
  {
   "cell_type": "code",
   "execution_count": null,
   "metadata": {},
   "outputs": [],
   "source": [
    "# Thiết lập kích thước mặc định cho các biểu đồ\n",
    "plt.style.use('seaborn')\n",
    "plt.rcParams['figure.figsize'] = (12, 6)\n",
    "\n",
    "# 1. Phân phối dữ liệu theo từng cột\n",
    "def plot_distribution(data, column, title, xlabel):\n",
    "    plt.figure()\n",
    "    sns.histplot(cleaned_df[column], kde=True, bins=30, color='blue')\n",
    "    plt.title(title, fontsize=16)\n",
    "    plt.xlabel(xlabel, fontsize=12)\n",
    "    plt.ylabel('Frequency', fontsize=12)\n",
    "    plt.grid(True)\n",
    "    plt.show()\n",
    "\n",
    "# Lần lượt vẽ phân phối cho các cột số\n",
    "plot_distribution(cleaned_df, 'Infant birth weight', 'Distribution of Infant Birth Weight', 'Birth Weight (grams)')\n",
    "plot_distribution(cleaned_df, 'Deaths', 'Distribution of Deaths', 'Number of Deaths')\n",
    "plot_distribution(cleaned_df, 'Births', 'Distribution of Births', 'Number of Births')\n",
    "plot_distribution(cleaned_df, 'Death rate per 1000', 'Distribution of Death Rate per 1000', 'Death Rate per 1000')\n",
    "\n",
    "# Phân phối các cột danh mục đã mã hóa\n",
    "def plot_categorical_distribution(data, column, title, xlabel):\n",
    "    plt.figure()\n",
    "    sns.countplot(x=column, data=data, palette='pastel')\n",
    "    plt.title(title, fontsize=16)\n",
    "    plt.xlabel(xlabel, fontsize=12)\n",
    "    plt.ylabel('Count', fontsize=12)\n",
    "    plt.grid(axis='y')\n",
    "    plt.show()\n",
    "\n",
    "plot_categorical_distribution(cleaned_df, 'NICU Admission', 'Distribution of NICU Admission', 'NICU Admission (1: Yes, 0: No)')\n",
    "plot_categorical_distribution(cleaned_df, 'Antibiotics for Mother', 'Distribution of Antibiotics for Mother', 'Antibiotics (1: Yes, 0: No)')\n",
    "plot_categorical_distribution(cleaned_df, \"Mother's Pre-pregnancy BMI\", \"Distribution of Mother's Pre-pregnancy BMI\", 'BMI Category')\n"
   ]
  },
  {
   "cell_type": "markdown",
   "metadata": {},
   "source": [
    "### Sau khi đã thấy được sự phân bổ giá trị ta vẽ biểu đồ tương quan để quan sát rõ hơn mối tương quan. "
   ]
  },
  {
   "cell_type": "code",
   "execution_count": null,
   "metadata": {},
   "outputs": [],
   "source": [
    "plt.figure(figsize=(10, 8))\n",
    "correlation_matrix = cleaned_df.corr()\n",
    "sns.heatmap(correlation_matrix, annot=True, fmt=\".2f\", cmap='coolwarm', cbar=True)\n",
    "plt.title('Correlation Matrix', fontsize=16)\n",
    "plt.show()"
   ]
  },
  {
   "cell_type": "markdown",
   "metadata": {},
   "source": [
    "- Các biến như `Deaths`, `Births` và `Death rate per 1000` có mỗi quan hệ chặt chẽ với nhau.  \n",
    "- `Infant birth weight` có mõi quan hệ nghịch với tử vong `Death rate per 1000`. Ta có thể hiểu như sau: Trẻ có cân nặng thấp thường có tỷ lệ tử bong cao hơn. "
   ]
  },
  {
   "cell_type": "markdown",
   "metadata": {},
   "source": [
    "### Scatter plot cho hai cột Infant Birth weight và Death Rate"
   ]
  },
  {
   "cell_type": "code",
   "execution_count": null,
   "metadata": {},
   "outputs": [],
   "source": [
    "plt.figure()\n",
    "sns.scatterplot(x='Infant birth weight', y='Death rate per 1000', hue='NICU Admission', data=cleaned_df, palette='coolwarm', alpha=0.7)\n",
    "plt.title('Infant Birth Weight vs Death Rate (Colored by NICU Admission)', fontsize=16)\n",
    "plt.xlabel('Infant Birth Weight (grams)', fontsize=12)\n",
    "plt.ylabel('Death Rate per 1000', fontsize=12)\n",
    "plt.grid(True)\n",
    "plt.legend(title='NICU Admission', labels=['No', 'Yes'])\n",
    "plt.show()"
   ]
  },
  {
   "cell_type": "markdown",
   "metadata": {},
   "source": [
    "- Trẻ sơ sinh với cân nặng thấp thường có tỷ lệ tử vong cao hơn, đặc biệt với nhóm không nhập viện như NICU (value = 0).  \n",
    "- Nhóm nhập viện NICU (value = 1) thường có sự phân tán lớn hơn về tỷ lệ tử vong.  "
   ]
  }
 ],
 "metadata": {
  "kernelspec": {
   "display_name": "min_ds-env",
   "language": "python",
   "name": "python3"
  },
  "language_info": {
   "codemirror_mode": {
    "name": "ipython",
    "version": 3
   },
   "file_extension": ".py",
   "mimetype": "text/x-python",
   "name": "python",
   "nbconvert_exporter": "python",
   "pygments_lexer": "ipython3",
   "version": "3.10.8"
  }
 },
 "nbformat": 4,
 "nbformat_minor": 2
}
