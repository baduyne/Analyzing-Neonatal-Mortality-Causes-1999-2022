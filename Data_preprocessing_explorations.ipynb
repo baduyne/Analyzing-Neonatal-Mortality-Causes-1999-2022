{
 "cells": [
  {
   "cell_type": "code",
   "execution_count": 424,
   "metadata": {},
   "outputs": [],
   "source": [
    "import pandas as pd\n",
    "import seaborn as sns\n",
    "import numpy as np\n",
    "import matplotlib.pyplot as plt\n",
    "from typing import Tuple\n"
   ]
  },
  {
   "cell_type": "markdown",
   "metadata": {},
   "source": [
    "## **Tiền xử lý dữ liệu 1999-2022**"
   ]
  },
  {
   "cell_type": "code",
   "execution_count": 425,
   "metadata": {},
   "outputs": [
    {
     "data": {
      "text/html": [
       "<div>\n",
       "<style scoped>\n",
       "    .dataframe tbody tr th:only-of-type {\n",
       "        vertical-align: middle;\n",
       "    }\n",
       "\n",
       "    .dataframe tbody tr th {\n",
       "        vertical-align: top;\n",
       "    }\n",
       "\n",
       "    .dataframe thead th {\n",
       "        text-align: right;\n",
       "    }\n",
       "</style>\n",
       "<table border=\"1\" class=\"dataframe\">\n",
       "  <thead>\n",
       "    <tr style=\"text-align: right;\">\n",
       "      <th></th>\n",
       "      <th>Cause of death</th>\n",
       "      <th>Age of mother</th>\n",
       "      <th>Mother's education</th>\n",
       "      <th>Birth weight</th>\n",
       "      <th>Age of infant at death</th>\n",
       "      <th>Deaths</th>\n",
       "      <th>Births</th>\n",
       "      <th>Death rate per 1000</th>\n",
       "      <th>Year</th>\n",
       "    </tr>\n",
       "  </thead>\n",
       "  <tbody>\n",
       "    <tr>\n",
       "      <th>0</th>\n",
       "      <td>Certain infectious and parasitic diseases (A00...</td>\n",
       "      <td>15-19 years</td>\n",
       "      <td>9 - 11 years</td>\n",
       "      <td>500 - 999 grams</td>\n",
       "      <td>28 - 364 days</td>\n",
       "      <td>13.0</td>\n",
       "      <td>1607.0</td>\n",
       "      <td>8.12 (Unreliable)</td>\n",
       "      <td>2003</td>\n",
       "    </tr>\n",
       "    <tr>\n",
       "      <th>1</th>\n",
       "      <td>Certain infectious and parasitic diseases (A00...</td>\n",
       "      <td>15-19 years</td>\n",
       "      <td>12 years</td>\n",
       "      <td>500 - 999 grams</td>\n",
       "      <td>28 - 364 days</td>\n",
       "      <td>12.0</td>\n",
       "      <td>995.0</td>\n",
       "      <td>12.09 (Unreliable)</td>\n",
       "      <td>2003</td>\n",
       "    </tr>\n",
       "    <tr>\n",
       "      <th>2</th>\n",
       "      <td>Certain infectious and parasitic diseases (A00...</td>\n",
       "      <td>20-24 years</td>\n",
       "      <td>12 years</td>\n",
       "      <td>500 - 999 grams</td>\n",
       "      <td>28 - 364 days</td>\n",
       "      <td>14.0</td>\n",
       "      <td>2456.0</td>\n",
       "      <td>5.74 (Unreliable)</td>\n",
       "      <td>2003</td>\n",
       "    </tr>\n",
       "    <tr>\n",
       "      <th>3</th>\n",
       "      <td>Certain infectious and parasitic diseases (A00...</td>\n",
       "      <td>20-24 years</td>\n",
       "      <td>12 years</td>\n",
       "      <td>2500 - 2999 grams</td>\n",
       "      <td>28 - 364 days</td>\n",
       "      <td>10.0</td>\n",
       "      <td>82446.0</td>\n",
       "      <td>0.12 (Unreliable)</td>\n",
       "      <td>2003</td>\n",
       "    </tr>\n",
       "    <tr>\n",
       "      <th>4</th>\n",
       "      <td>Certain infectious and parasitic diseases (A00...</td>\n",
       "      <td>20-24 years</td>\n",
       "      <td>13 - 15 years</td>\n",
       "      <td>500 - 999 grams</td>\n",
       "      <td>28 - 364 days</td>\n",
       "      <td>16.0</td>\n",
       "      <td>1222.0</td>\n",
       "      <td>13.17 (Unreliable)</td>\n",
       "      <td>2003</td>\n",
       "    </tr>\n",
       "  </tbody>\n",
       "</table>\n",
       "</div>"
      ],
      "text/plain": [
       "                                      Cause of death Age of mother  \\\n",
       "0  Certain infectious and parasitic diseases (A00...   15-19 years   \n",
       "1  Certain infectious and parasitic diseases (A00...   15-19 years   \n",
       "2  Certain infectious and parasitic diseases (A00...   20-24 years   \n",
       "3  Certain infectious and parasitic diseases (A00...   20-24 years   \n",
       "4  Certain infectious and parasitic diseases (A00...   20-24 years   \n",
       "\n",
       "  Mother's education       Birth weight Age of infant at death  Deaths  \\\n",
       "0       9 - 11 years    500 - 999 grams          28 - 364 days    13.0   \n",
       "1           12 years    500 - 999 grams          28 - 364 days    12.0   \n",
       "2           12 years    500 - 999 grams          28 - 364 days    14.0   \n",
       "3           12 years  2500 - 2999 grams          28 - 364 days    10.0   \n",
       "4      13 - 15 years    500 - 999 grams          28 - 364 days    16.0   \n",
       "\n",
       "    Births Death rate per 1000  Year  \n",
       "0   1607.0   8.12 (Unreliable)  2003  \n",
       "1    995.0  12.09 (Unreliable)  2003  \n",
       "2   2456.0   5.74 (Unreliable)  2003  \n",
       "3  82446.0   0.12 (Unreliable)  2003  \n",
       "4   1222.0  13.17 (Unreliable)  2003  "
      ]
     },
     "execution_count": 425,
     "metadata": {},
     "output_type": "execute_result"
    }
   ],
   "source": [
    "raw_data_1999_2022 = pd.read_csv(\"./DATA/infant_mortality_data_2003_2022.csv\")\n",
    "raw_data_1999_2022.head()"
   ]
  },
  {
   "cell_type": "code",
   "execution_count": 426,
   "metadata": {},
   "outputs": [
    {
     "data": {
      "text/plain": [
       "(17273, 9)"
      ]
     },
     "execution_count": 426,
     "metadata": {},
     "output_type": "execute_result"
    }
   ],
   "source": [
    "raw_data_1999_2022.shape"
   ]
  },
  {
   "cell_type": "markdown",
   "metadata": {},
   "source": [
    "### **1. Làm sạch dữ liệu**"
   ]
  },
  {
   "cell_type": "markdown",
   "metadata": {},
   "source": [
    "Xử lý dữ liệu bị trùng lặp"
   ]
  },
  {
   "cell_type": "code",
   "execution_count": 427,
   "metadata": {},
   "outputs": [],
   "source": [
    "num_duplicated_rows = raw_data_1999_2022.index.duplicated(keep='first').sum()"
   ]
  },
  {
   "cell_type": "code",
   "execution_count": 428,
   "metadata": {},
   "outputs": [
    {
     "name": "stdout",
     "output_type": "stream",
     "text": [
      "Dữ liệu không có trùng lặp\n"
     ]
    }
   ],
   "source": [
    "if num_duplicated_rows == 0: \n",
    "    print(\"Dữ liệu không có trùng lặp\")\n",
    "else : \n",
    "    print(f\"Dữ liệu có  trùng lặp: {num_duplicated_rows} \")"
   ]
  },
  {
   "cell_type": "markdown",
   "metadata": {},
   "source": [
    "**Xử lý mất giá trị**"
   ]
  },
  {
   "cell_type": "code",
   "execution_count": 429,
   "metadata": {},
   "outputs": [],
   "source": [
    "def missing_ratio(series):\n",
    "    return series.isnull().mean() * 100"
   ]
  },
  {
   "cell_type": "code",
   "execution_count": 430,
   "metadata": {},
   "outputs": [
    {
     "data": {
      "text/plain": [
       "Cause of death            0.0\n",
       "Age of mother             0.0\n",
       "Mother's education        0.0\n",
       "Birth weight              0.0\n",
       "Age of infant at death    0.0\n",
       "Deaths                    0.0\n",
       "Births                    0.0\n",
       "Death rate per 1000       0.0\n",
       "Year                      0.0\n",
       "dtype: float64"
      ]
     },
     "execution_count": 430,
     "metadata": {},
     "output_type": "execute_result"
    }
   ],
   "source": [
    "miss_value_ratio = missing_ratio(raw_data_1999_2022)\n",
    "miss_value_ratio"
   ]
  },
  {
   "cell_type": "markdown",
   "metadata": {},
   "source": [
    "- Không có giá trị mất"
   ]
  },
  {
   "cell_type": "code",
   "execution_count": 431,
   "metadata": {},
   "outputs": [
    {
     "data": {
      "text/plain": [
       "Cause of death             object\n",
       "Age of mother              object\n",
       "Mother's education         object\n",
       "Birth weight               object\n",
       "Age of infant at death     object\n",
       "Deaths                    float64\n",
       "Births                    float64\n",
       "Death rate per 1000        object\n",
       "Year                        int64\n",
       "dtype: object"
      ]
     },
     "execution_count": 431,
     "metadata": {},
     "output_type": "execute_result"
    }
   ],
   "source": [
    "dtypes = raw_data_1999_2022.dtypes\n",
    "dtypes"
   ]
  },
  {
   "cell_type": "markdown",
   "metadata": {},
   "source": [
    "**Thay đổi kiểu dữ liệu phù hợp**"
   ]
  },
  {
   "cell_type": "code",
   "execution_count": 432,
   "metadata": {},
   "outputs": [],
   "source": [
    "raw_data_1999_2022['Year'] = raw_data_1999_2022['Year'].astype('category')\n",
    "\n",
    "raw_data_1999_2022['Births'] = raw_data_1999_2022['Births'].astype(int)\n",
    "raw_data_1999_2022['Deaths'] = raw_data_1999_2022['Deaths'].astype(int)\n",
    "\n",
    "# Loại bỏ phần \"(Unreliable)\" trong cột \"Death rate per 1000\"\n",
    "raw_data_1999_2022[\"Death rate per 1000\"] = raw_data_1999_2022[\"Death rate per 1000\"].str.extract(r\"(\\d+\\.\\d+)\").astype(float)"
   ]
  },
  {
   "cell_type": "code",
   "execution_count": 433,
   "metadata": {},
   "outputs": [
    {
     "data": {
      "text/plain": [
       "Cause of death              object\n",
       "Age of mother               object\n",
       "Mother's education          object\n",
       "Birth weight                object\n",
       "Age of infant at death      object\n",
       "Deaths                       int64\n",
       "Births                       int64\n",
       "Death rate per 1000        float64\n",
       "Year                      category\n",
       "dtype: object"
      ]
     },
     "execution_count": 433,
     "metadata": {},
     "output_type": "execute_result"
    }
   ],
   "source": [
    "raw_data_1999_2022.dtypes"
   ]
  },
  {
   "cell_type": "markdown",
   "metadata": {},
   "source": [
    "**Xoá giá trị nhiễu**"
   ]
  },
  {
   "cell_type": "code",
   "execution_count": 434,
   "metadata": {},
   "outputs": [
    {
     "data": {
      "text/plain": [
       "array(['15-19 years', '20-24 years', '25-29 years', '30-34 years',\n",
       "       'Under 15 years', '35-39 years', '40-44 years'], dtype=object)"
      ]
     },
     "execution_count": 434,
     "metadata": {},
     "output_type": "execute_result"
    }
   ],
   "source": [
    "Age_of_mother = raw_data_1999_2022['Age of mother'].unique()\n",
    "Age_of_mother"
   ]
  },
  {
   "cell_type": "code",
   "execution_count": 435,
   "metadata": {},
   "outputs": [
    {
     "data": {
      "text/plain": [
       "array(['500 - 999 grams', '2500 - 2999 grams', '3000 - 3499 grams',\n",
       "       '1000 - 1499 grams', '2000 - 2499 grams', '3500 - 3999 grams',\n",
       "       '499 grams or less', '1500 - 1999 grams', '4000 - 4499 grams',\n",
       "       'Unknown or Not Stated'], dtype=object)"
      ]
     },
     "execution_count": 435,
     "metadata": {},
     "output_type": "execute_result"
    }
   ],
   "source": [
    "Birth_weight  = raw_data_1999_2022['Birth weight'].unique()\n",
    "Birth_weight"
   ]
  },
  {
   "cell_type": "markdown",
   "metadata": {},
   "source": [
    "- Nhiễu : \"Unknown or Not Stated\" , thực hiện xoá nhiễu"
   ]
  },
  {
   "cell_type": "code",
   "execution_count": 436,
   "metadata": {},
   "outputs": [
    {
     "data": {
      "text/html": [
       "<div>\n",
       "<style scoped>\n",
       "    .dataframe tbody tr th:only-of-type {\n",
       "        vertical-align: middle;\n",
       "    }\n",
       "\n",
       "    .dataframe tbody tr th {\n",
       "        vertical-align: top;\n",
       "    }\n",
       "\n",
       "    .dataframe thead th {\n",
       "        text-align: right;\n",
       "    }\n",
       "</style>\n",
       "<table border=\"1\" class=\"dataframe\">\n",
       "  <thead>\n",
       "    <tr style=\"text-align: right;\">\n",
       "      <th></th>\n",
       "      <th>Cause of death</th>\n",
       "      <th>Age of mother</th>\n",
       "      <th>Mother's education</th>\n",
       "      <th>Birth weight</th>\n",
       "      <th>Age of infant at death</th>\n",
       "      <th>Deaths</th>\n",
       "      <th>Births</th>\n",
       "      <th>Death rate per 1000</th>\n",
       "      <th>Year</th>\n",
       "    </tr>\n",
       "  </thead>\n",
       "  <tbody>\n",
       "    <tr>\n",
       "      <th>0</th>\n",
       "      <td>Certain infectious and parasitic diseases (A00...</td>\n",
       "      <td>15-19 years</td>\n",
       "      <td>9 - 11 years</td>\n",
       "      <td>500 - 999 grams</td>\n",
       "      <td>28 - 364 days</td>\n",
       "      <td>13</td>\n",
       "      <td>1607</td>\n",
       "      <td>8.12</td>\n",
       "      <td>2003</td>\n",
       "    </tr>\n",
       "    <tr>\n",
       "      <th>1</th>\n",
       "      <td>Certain infectious and parasitic diseases (A00...</td>\n",
       "      <td>15-19 years</td>\n",
       "      <td>12 years</td>\n",
       "      <td>500 - 999 grams</td>\n",
       "      <td>28 - 364 days</td>\n",
       "      <td>12</td>\n",
       "      <td>995</td>\n",
       "      <td>12.09</td>\n",
       "      <td>2003</td>\n",
       "    </tr>\n",
       "    <tr>\n",
       "      <th>2</th>\n",
       "      <td>Certain infectious and parasitic diseases (A00...</td>\n",
       "      <td>20-24 years</td>\n",
       "      <td>12 years</td>\n",
       "      <td>500 - 999 grams</td>\n",
       "      <td>28 - 364 days</td>\n",
       "      <td>14</td>\n",
       "      <td>2456</td>\n",
       "      <td>5.74</td>\n",
       "      <td>2003</td>\n",
       "    </tr>\n",
       "    <tr>\n",
       "      <th>3</th>\n",
       "      <td>Certain infectious and parasitic diseases (A00...</td>\n",
       "      <td>20-24 years</td>\n",
       "      <td>12 years</td>\n",
       "      <td>2500 - 2999 grams</td>\n",
       "      <td>28 - 364 days</td>\n",
       "      <td>10</td>\n",
       "      <td>82446</td>\n",
       "      <td>0.12</td>\n",
       "      <td>2003</td>\n",
       "    </tr>\n",
       "    <tr>\n",
       "      <th>4</th>\n",
       "      <td>Certain infectious and parasitic diseases (A00...</td>\n",
       "      <td>20-24 years</td>\n",
       "      <td>13 - 15 years</td>\n",
       "      <td>500 - 999 grams</td>\n",
       "      <td>28 - 364 days</td>\n",
       "      <td>16</td>\n",
       "      <td>1222</td>\n",
       "      <td>13.17</td>\n",
       "      <td>2003</td>\n",
       "    </tr>\n",
       "    <tr>\n",
       "      <th>...</th>\n",
       "      <td>...</td>\n",
       "      <td>...</td>\n",
       "      <td>...</td>\n",
       "      <td>...</td>\n",
       "      <td>...</td>\n",
       "      <td>...</td>\n",
       "      <td>...</td>\n",
       "      <td>...</td>\n",
       "      <td>...</td>\n",
       "    </tr>\n",
       "    <tr>\n",
       "      <th>17268</th>\n",
       "      <td>#Assault (homicide) (*U01,X85-Y09)</td>\n",
       "      <td>20-24 years</td>\n",
       "      <td>High school graduate or GED completed</td>\n",
       "      <td>3000 - 3499 grams</td>\n",
       "      <td>28 - 364 days</td>\n",
       "      <td>17</td>\n",
       "      <td>123072</td>\n",
       "      <td>0.14</td>\n",
       "      <td>2022</td>\n",
       "    </tr>\n",
       "    <tr>\n",
       "      <th>17269</th>\n",
       "      <td>#Assault (homicide) (*U01,X85-Y09)</td>\n",
       "      <td>20-24 years</td>\n",
       "      <td>High school graduate or GED completed</td>\n",
       "      <td>3500 - 3999 grams</td>\n",
       "      <td>28 - 364 days</td>\n",
       "      <td>10</td>\n",
       "      <td>67511</td>\n",
       "      <td>0.15</td>\n",
       "      <td>2022</td>\n",
       "    </tr>\n",
       "    <tr>\n",
       "      <th>17270</th>\n",
       "      <td>#Assault (homicide) (*U01,X85-Y09)</td>\n",
       "      <td>25-29 years</td>\n",
       "      <td>High school graduate or GED completed</td>\n",
       "      <td>2500 - 2999 grams</td>\n",
       "      <td>28 - 364 days</td>\n",
       "      <td>10</td>\n",
       "      <td>60404</td>\n",
       "      <td>0.17</td>\n",
       "      <td>2022</td>\n",
       "    </tr>\n",
       "    <tr>\n",
       "      <th>17271</th>\n",
       "      <td>#Assault (homicide) (*U01,X85-Y09)</td>\n",
       "      <td>25-29 years</td>\n",
       "      <td>Some college credit, but not a degree</td>\n",
       "      <td>3000 - 3499 grams</td>\n",
       "      <td>28 - 364 days</td>\n",
       "      <td>11</td>\n",
       "      <td>84241</td>\n",
       "      <td>0.13</td>\n",
       "      <td>2022</td>\n",
       "    </tr>\n",
       "    <tr>\n",
       "      <th>17272</th>\n",
       "      <td>Assault (homicide) by other and unspecified me...</td>\n",
       "      <td>20-24 years</td>\n",
       "      <td>High school graduate or GED completed</td>\n",
       "      <td>3000 - 3499 grams</td>\n",
       "      <td>28 - 364 days</td>\n",
       "      <td>10</td>\n",
       "      <td>123072</td>\n",
       "      <td>0.08</td>\n",
       "      <td>2022</td>\n",
       "    </tr>\n",
       "  </tbody>\n",
       "</table>\n",
       "<p>17267 rows × 9 columns</p>\n",
       "</div>"
      ],
      "text/plain": [
       "                                          Cause of death Age of mother  \\\n",
       "0      Certain infectious and parasitic diseases (A00...   15-19 years   \n",
       "1      Certain infectious and parasitic diseases (A00...   15-19 years   \n",
       "2      Certain infectious and parasitic diseases (A00...   20-24 years   \n",
       "3      Certain infectious and parasitic diseases (A00...   20-24 years   \n",
       "4      Certain infectious and parasitic diseases (A00...   20-24 years   \n",
       "...                                                  ...           ...   \n",
       "17268                 #Assault (homicide) (*U01,X85-Y09)   20-24 years   \n",
       "17269                 #Assault (homicide) (*U01,X85-Y09)   20-24 years   \n",
       "17270                 #Assault (homicide) (*U01,X85-Y09)   25-29 years   \n",
       "17271                 #Assault (homicide) (*U01,X85-Y09)   25-29 years   \n",
       "17272  Assault (homicide) by other and unspecified me...   20-24 years   \n",
       "\n",
       "                          Mother's education       Birth weight  \\\n",
       "0                               9 - 11 years    500 - 999 grams   \n",
       "1                                   12 years    500 - 999 grams   \n",
       "2                                   12 years    500 - 999 grams   \n",
       "3                                   12 years  2500 - 2999 grams   \n",
       "4                              13 - 15 years    500 - 999 grams   \n",
       "...                                      ...                ...   \n",
       "17268  High school graduate or GED completed  3000 - 3499 grams   \n",
       "17269  High school graduate or GED completed  3500 - 3999 grams   \n",
       "17270  High school graduate or GED completed  2500 - 2999 grams   \n",
       "17271  Some college credit, but not a degree  3000 - 3499 grams   \n",
       "17272  High school graduate or GED completed  3000 - 3499 grams   \n",
       "\n",
       "      Age of infant at death  Deaths  Births  Death rate per 1000  Year  \n",
       "0              28 - 364 days      13    1607                 8.12  2003  \n",
       "1              28 - 364 days      12     995                12.09  2003  \n",
       "2              28 - 364 days      14    2456                 5.74  2003  \n",
       "3              28 - 364 days      10   82446                 0.12  2003  \n",
       "4              28 - 364 days      16    1222                13.17  2003  \n",
       "...                      ...     ...     ...                  ...   ...  \n",
       "17268          28 - 364 days      17  123072                 0.14  2022  \n",
       "17269          28 - 364 days      10   67511                 0.15  2022  \n",
       "17270          28 - 364 days      10   60404                 0.17  2022  \n",
       "17271          28 - 364 days      11   84241                 0.13  2022  \n",
       "17272          28 - 364 days      10  123072                 0.08  2022  \n",
       "\n",
       "[17267 rows x 9 columns]"
      ]
     },
     "execution_count": 436,
     "metadata": {},
     "output_type": "execute_result"
    }
   ],
   "source": [
    "raw_data_1999_2022 = raw_data_1999_2022[raw_data_1999_2022['Birth weight'] != 'Unknown or Not Stated']\n",
    "raw_data_1999_2022"
   ]
  },
  {
   "cell_type": "code",
   "execution_count": 437,
   "metadata": {},
   "outputs": [
    {
     "data": {
      "text/plain": [
       "array(['9 - 11 years', '12 years', '13 - 15 years', '16 years and over',\n",
       "       '0 -  8 years', 'Not stated/Not on certificate',\n",
       "       'High school graduate or GED completed',\n",
       "       '9th through 12th grade with no diploma',\n",
       "       'Some college credit, but not a degree', '8th grade or less',\n",
       "       'Associate degree (AA, AS)', \"Bachelor's degree (BA, AB, BS)\",\n",
       "       \"Master's degree (MA, MS, MEng, MEd, MSW, MBA)\",\n",
       "       'Doctorate (PhD, EdD) or Professional Degree (MD, DDS, DVM, LLB, JD)'],\n",
       "      dtype=object)"
      ]
     },
     "execution_count": 437,
     "metadata": {},
     "output_type": "execute_result"
    }
   ],
   "source": [
    "Mother_education  = raw_data_1999_2022['Mother\\'s education'].unique()\n",
    "Mother_education"
   ]
  },
  {
   "cell_type": "code",
   "execution_count": 438,
   "metadata": {},
   "outputs": [
    {
     "data": {
      "text/plain": [
       "array(['28 - 364 days', '1 - 23 hours', 'Under 1 hour', '1 - 6 days',\n",
       "       '7 - 27 days'], dtype=object)"
      ]
     },
     "execution_count": 438,
     "metadata": {},
     "output_type": "execute_result"
    }
   ],
   "source": [
    "Mother_education  = raw_data_1999_2022['Age of infant at death'].unique()\n",
    "Mother_education"
   ]
  },
  {
   "cell_type": "markdown",
   "metadata": {},
   "source": [
    "**Chuấn hoá lại giá trị các cột**"
   ]
  },
  {
   "cell_type": "code",
   "execution_count": 439,
   "metadata": {},
   "outputs": [],
   "source": [
    "# Loại bỏ các đơn vị như \"years\", \"grams\", \"days\"\n",
    "raw_data_1999_2022[\"Age of mother\"] = raw_data_1999_2022[\"Age of mother\"].str.replace(\" years\", \"\", regex=False)\n",
    "raw_data_1999_2022[\"Birth weight\"] = raw_data_1999_2022[\"Birth weight\"].str.replace(\" grams\", \"\", regex=False)\n",
    "raw_data_1999_2022[\"Age of infant at death\"] = raw_data_1999_2022[\"Age of infant at death\"].str.replace(\" days\", \"\", regex=False)"
   ]
  },
  {
   "cell_type": "code",
   "execution_count": 440,
   "metadata": {},
   "outputs": [],
   "source": [
    "def checking_data(df: pd.DataFrame) -> bool:\n",
    "    # Kiểm tra các điều kiện cho từng cột\n",
    "    check_deaths = (df['Deaths'] >= 0).all()\n",
    "    check_births = (df['Births'] >= 0).all()\n",
    "    check_death_rate = (df['Death rate per 1000'] >= 0).all() and (df['Death rate per 1000'] <= 1000).all()\n",
    "    \n",
    "    # Kết hợp các điều kiện\n",
    "    check = check_deaths and check_births and check_death_rate\n",
    "    \n",
    "    return check"
   ]
  },
  {
   "cell_type": "code",
   "execution_count": 441,
   "metadata": {},
   "outputs": [
    {
     "data": {
      "text/plain": [
       "True"
      ]
     },
     "execution_count": 441,
     "metadata": {},
     "output_type": "execute_result"
    }
   ],
   "source": [
    "checking_data(raw_data_1999_2022) == True"
   ]
  },
  {
   "cell_type": "markdown",
   "metadata": {},
   "source": [
    "**Đưa về cùng 1 mức xếp trình độ học vấn của người mẹ**"
   ]
  },
  {
   "cell_type": "code",
   "execution_count": 442,
   "metadata": {},
   "outputs": [],
   "source": [
    "for index, row in raw_data_1999_2022.iterrows():\n",
    "    \n",
    "    education = row[\"Mother's education\"]\n",
    "    \n",
    "    # kiểm tra giá trị và đưa về cùng dạng\n",
    "    if education == \"0 - 8 years\" or education == \"8th grade or less\":\n",
    "        raw_data_1999_2022.loc[index, \"Mother's education\"] = \"Elementary School or Less\"\n",
    "        \n",
    "    if education == \"9 - 11 years\" or education == \"9th through 12th grade with no diploma\":\n",
    "        raw_data_1999_2022.loc[index, \"Mother's education\"] = \"High School Incomplete\"\n",
    "        \n",
    "    if education == \"12 years\" or education == \"High school graduate or GED completed\":\n",
    "        raw_data_1999_2022.loc[index, \"Mother's education\"] = \"High School Graduate\"\n",
    "        \n",
    "    if education == \"13 - 15 years\" or education == \"Some college credit, but not a degree\" or education == \"Associate's degree\" :\n",
    "        raw_data_1999_2022.loc[index, \"Mother's education\"] = \"Some College Education\"\n",
    "    \n",
    "    if education == \"16 years and over\" or education == \"Bachelor's degree (BA, AB, BS)\" or education == \" Master's degree (MA, MS) \"or education == \"Doctorate (PHD, EdD) or Professional Degree (MD, DDS, DVM, LLB, JD)\":\n",
    "        raw_data_1999_2022.loc[index, \"Mother's education\"] = \"College Graduate or Higher\"\n",
    "    if education == \"Not stated/Not on certificate\":\n",
    "        raw_data_1999_2022.loc[index, \"Mother's education\"] = \"Not Stated\"\n",
    "        "
   ]
  },
  {
   "cell_type": "code",
   "execution_count": 443,
   "metadata": {},
   "outputs": [
    {
     "data": {
      "text/html": [
       "<div>\n",
       "<style scoped>\n",
       "    .dataframe tbody tr th:only-of-type {\n",
       "        vertical-align: middle;\n",
       "    }\n",
       "\n",
       "    .dataframe tbody tr th {\n",
       "        vertical-align: top;\n",
       "    }\n",
       "\n",
       "    .dataframe thead th {\n",
       "        text-align: right;\n",
       "    }\n",
       "</style>\n",
       "<table border=\"1\" class=\"dataframe\">\n",
       "  <thead>\n",
       "    <tr style=\"text-align: right;\">\n",
       "      <th></th>\n",
       "      <th>Deaths</th>\n",
       "      <th>Births</th>\n",
       "      <th>Death rate per 1000</th>\n",
       "    </tr>\n",
       "  </thead>\n",
       "  <tbody>\n",
       "    <tr>\n",
       "      <th>count</th>\n",
       "      <td>17267.000000</td>\n",
       "      <td>17267.000000</td>\n",
       "      <td>17267.000000</td>\n",
       "    </tr>\n",
       "    <tr>\n",
       "      <th>mean</th>\n",
       "      <td>25.680489</td>\n",
       "      <td>14147.556263</td>\n",
       "      <td>74.759928</td>\n",
       "    </tr>\n",
       "    <tr>\n",
       "      <th>std</th>\n",
       "      <td>24.081265</td>\n",
       "      <td>27916.352550</td>\n",
       "      <td>108.207997</td>\n",
       "    </tr>\n",
       "    <tr>\n",
       "      <th>min</th>\n",
       "      <td>10.000000</td>\n",
       "      <td>19.000000</td>\n",
       "      <td>0.070000</td>\n",
       "    </tr>\n",
       "    <tr>\n",
       "      <th>25%</th>\n",
       "      <td>12.000000</td>\n",
       "      <td>253.000000</td>\n",
       "      <td>1.320000</td>\n",
       "    </tr>\n",
       "    <tr>\n",
       "      <th>50%</th>\n",
       "      <td>17.000000</td>\n",
       "      <td>823.000000</td>\n",
       "      <td>24.410000</td>\n",
       "    </tr>\n",
       "    <tr>\n",
       "      <th>75%</th>\n",
       "      <td>29.000000</td>\n",
       "      <td>12737.000000</td>\n",
       "      <td>105.320000</td>\n",
       "    </tr>\n",
       "    <tr>\n",
       "      <th>max</th>\n",
       "      <td>321.000000</td>\n",
       "      <td>169159.000000</td>\n",
       "      <td>790.770000</td>\n",
       "    </tr>\n",
       "  </tbody>\n",
       "</table>\n",
       "</div>"
      ],
      "text/plain": [
       "             Deaths         Births  Death rate per 1000\n",
       "count  17267.000000   17267.000000         17267.000000\n",
       "mean      25.680489   14147.556263            74.759928\n",
       "std       24.081265   27916.352550           108.207997\n",
       "min       10.000000      19.000000             0.070000\n",
       "25%       12.000000     253.000000             1.320000\n",
       "50%       17.000000     823.000000            24.410000\n",
       "75%       29.000000   12737.000000           105.320000\n",
       "max      321.000000  169159.000000           790.770000"
      ]
     },
     "execution_count": 443,
     "metadata": {},
     "output_type": "execute_result"
    }
   ],
   "source": [
    "raw_data_1999_2022.describe()"
   ]
  },
  {
   "cell_type": "markdown",
   "metadata": {},
   "source": [
    "**Xoá outliers**"
   ]
  },
  {
   "cell_type": "code",
   "execution_count": 444,
   "metadata": {},
   "outputs": [],
   "source": [
    "numerical_cols = ['Deaths', 'Births', 'Death rate per 1000']"
   ]
  },
  {
   "cell_type": "markdown",
   "metadata": {},
   "source": [
    "**Trực quan bằng boxplot để xác định outliers**"
   ]
  },
  {
   "cell_type": "code",
   "execution_count": 452,
   "metadata": {},
   "outputs": [
    {
     "data": {
      "image/png": "[encoded data removed]",
      "text/plain": [
       "<Figure size 1500x500 with 3 Axes>"
      ]
     },
     "metadata": {},
     "output_type": "display_data"
    }
   ],
   "source": [
    "def detect_outlier(df: pd.DataFrame, numerical_cols: list):\n",
    "    # Create a figure with a dynamic number of subplots\n",
    "    plt.figure(figsize=(5 * len(numerical_cols), 5))  # Adjust width based on number of columns\n",
    "    for i, col in enumerate(numerical_cols):\n",
    "        plt.subplot(1, len(numerical_cols), i + 1)  # Dynamically set the number of columns\n",
    "        sns.boxplot(y=df[col])  # Use the dataframe passed as argument\n",
    "        plt.title(f'Boxplot of {col}')\n",
    "    \n",
    "    # Adjust layout to prevent overlap\n",
    "    plt.tight_layout()\n",
    "    plt.show()\n",
    "        \n",
    "detect_outlier(raw_data_1999_2022,numerical_cols)"
   ]
  },
  {
   "cell_type": "code",
   "execution_count": 447,
   "metadata": {},
   "outputs": [],
   "source": [
    "def find_boxplot_boundaries(col: pd.Series, whisker_coeff: float = 1.5) -> Tuple[float, float]:\n",
    "    Q1 = col.quantile(0.25)\n",
    "    Q3 = col.quantile(0.75)\n",
    "    IQR = Q3 - Q1\n",
    "    lower = Q1 - whisker_coeff * IQR\n",
    "    upper = Q3 + whisker_coeff * IQR\n",
    "    return lower, upper\n",
    "\n",
    "def clip_outliers(col: pd.Series, whisker_coeff: float = 1.5) -> pd.Series:\n",
    "    lower, upper = find_boxplot_boundaries(col, whisker_coeff)\n",
    "    return col.clip(lower, upper)\n",
    "\n",
    "def remove_outliers_from_dataframe(df: pd.DataFrame, numerical_cols: list, whisker_coeff: float = 1.5) -> pd.DataFrame:\n",
    "    df_clipped = df.copy()\n",
    "    for col in numerical_cols:\n",
    "        if col in df.columns:\n",
    "            df_clipped[col] = clip_outliers(df_clipped[col], whisker_coeff)\n",
    "    return df_clipped\n",
    "\n",
    "clipped_data = remove_outliers_from_dataframe(raw_data_1999_2022, numerical_cols)"
   ]
  },
  {
   "cell_type": "code",
   "execution_count": 448,
   "metadata": {},
   "outputs": [
    {
     "data": {
      "image/png": "[encoded data removed]",
      "text/plain": [
       "<Figure size 1500x500 with 3 Axes>"
      ]
     },
     "metadata": {},
     "output_type": "display_data"
    }
   ],
   "source": [
    "detect_outlier(clipped_data,numerical_cols)"
   ]
  },
  {
   "cell_type": "code",
   "execution_count": 449,
   "metadata": {},
   "outputs": [],
   "source": [
    "# # Define Z-score threshold\n",
    "# z_threshold = 1.3\n",
    "\n",
    "# # Calculate mean and standard deviation\n",
    "# mean = raw_data_1999_2022['Death rate per 1000'].mean()\n",
    "# std = raw_data_1999_2022['Death rate per 1000'].std()\n",
    "\n",
    "# # Calculate lower and upper bounds for clipping\n",
    "# lower_bound = mean - z_threshold * std\n",
    "# upper_bound = mean + z_threshold * std\n",
    "\n",
    "# # Clip the outliers\n",
    "# raw_data_1999_2022['Death rate per 1000'] = raw_data_1999_2022['Death rate per 1000'].clip(lower_bound, upper_bound)\n",
    "\n",
    "# raw_data_1999_2022['Clipped Death rate per 1000'] = raw_data_1999_2022['Death rate per 1000']\n",
    "\n",
    "# plt.figure(figsize=(15, 10))\n",
    "# plt.subplot(2, 1, 1)\n",
    "# sns.boxplot(data=raw_data_1999_2022, x='Year', y='Death rate per 1000')\n",
    "# plt.title('Original Death rate per 1000 by Year')\n",
    "\n",
    "# plt.subplot(2, 1, 2)\n",
    "# sns.boxplot(data=raw_data_1999_2022, x='Year', y='Clipped Death rate per 1000')\n",
    "# plt.title('Clipped Death rate per 1000 by Year')\n",
    "\n",
    "# plt.tight_layout()\n",
    "# plt.show()"
   ]
  },
  {
   "cell_type": "markdown",
   "metadata": {},
   "source": [
    "**Xuất file đã tiền xử lý**"
   ]
  },
  {
   "cell_type": "code",
   "execution_count": 450,
   "metadata": {},
   "outputs": [],
   "source": [
    "clipped_data.to_csv(\"./DATA/preprocessing_2019_2022.csv\", index=False)\n"
   ]
  },
  {
   "cell_type": "code",
   "execution_count": 451,
   "metadata": {},
   "outputs": [
    {
     "data": {
      "text/html": [
       "<div>\n",
       "<style scoped>\n",
       "    .dataframe tbody tr th:only-of-type {\n",
       "        vertical-align: middle;\n",
       "    }\n",
       "\n",
       "    .dataframe tbody tr th {\n",
       "        vertical-align: top;\n",
       "    }\n",
       "\n",
       "    .dataframe thead th {\n",
       "        text-align: right;\n",
       "    }\n",
       "</style>\n",
       "<table border=\"1\" class=\"dataframe\">\n",
       "  <thead>\n",
       "    <tr style=\"text-align: right;\">\n",
       "      <th></th>\n",
       "      <th>Deaths</th>\n",
       "      <th>Births</th>\n",
       "      <th>Death rate per 1000</th>\n",
       "      <th>Cause of death_#Assault (homicide) (*U01,X85-Y09)</th>\n",
       "      <th>Cause of death_#Atelectasis (P28.0-P28.1)</th>\n",
       "      <th>Cause of death_#Bacterial sepsis of newborn (P36)</th>\n",
       "      <th>Cause of death_#Chronic respiratory disease originating in the perinatal period (P27)</th>\n",
       "      <th>Cause of death_#Congenital malformations, deformations and chromosomal abnormalities (Q00-Q99)</th>\n",
       "      <th>Cause of death_#Diarrhea and gastroenteritis of infectious origin (A09)</th>\n",
       "      <th>Cause of death_#Diseases of the circulatory system (I00-I99)</th>\n",
       "      <th>...</th>\n",
       "      <th>Year_2013</th>\n",
       "      <th>Year_2014</th>\n",
       "      <th>Year_2015</th>\n",
       "      <th>Year_2016</th>\n",
       "      <th>Year_2017</th>\n",
       "      <th>Year_2018</th>\n",
       "      <th>Year_2019</th>\n",
       "      <th>Year_2020</th>\n",
       "      <th>Year_2021</th>\n",
       "      <th>Year_2022</th>\n",
       "    </tr>\n",
       "  </thead>\n",
       "  <tbody>\n",
       "    <tr>\n",
       "      <th>0</th>\n",
       "      <td>13.0</td>\n",
       "      <td>1607</td>\n",
       "      <td>8.12</td>\n",
       "      <td>False</td>\n",
       "      <td>False</td>\n",
       "      <td>False</td>\n",
       "      <td>False</td>\n",
       "      <td>False</td>\n",
       "      <td>False</td>\n",
       "      <td>False</td>\n",
       "      <td>...</td>\n",
       "      <td>False</td>\n",
       "      <td>False</td>\n",
       "      <td>False</td>\n",
       "      <td>False</td>\n",
       "      <td>False</td>\n",
       "      <td>False</td>\n",
       "      <td>False</td>\n",
       "      <td>False</td>\n",
       "      <td>False</td>\n",
       "      <td>False</td>\n",
       "    </tr>\n",
       "    <tr>\n",
       "      <th>1</th>\n",
       "      <td>12.0</td>\n",
       "      <td>995</td>\n",
       "      <td>12.09</td>\n",
       "      <td>False</td>\n",
       "      <td>False</td>\n",
       "      <td>False</td>\n",
       "      <td>False</td>\n",
       "      <td>False</td>\n",
       "      <td>False</td>\n",
       "      <td>False</td>\n",
       "      <td>...</td>\n",
       "      <td>False</td>\n",
       "      <td>False</td>\n",
       "      <td>False</td>\n",
       "      <td>False</td>\n",
       "      <td>False</td>\n",
       "      <td>False</td>\n",
       "      <td>False</td>\n",
       "      <td>False</td>\n",
       "      <td>False</td>\n",
       "      <td>False</td>\n",
       "    </tr>\n",
       "    <tr>\n",
       "      <th>2</th>\n",
       "      <td>14.0</td>\n",
       "      <td>2456</td>\n",
       "      <td>5.74</td>\n",
       "      <td>False</td>\n",
       "      <td>False</td>\n",
       "      <td>False</td>\n",
       "      <td>False</td>\n",
       "      <td>False</td>\n",
       "      <td>False</td>\n",
       "      <td>False</td>\n",
       "      <td>...</td>\n",
       "      <td>False</td>\n",
       "      <td>False</td>\n",
       "      <td>False</td>\n",
       "      <td>False</td>\n",
       "      <td>False</td>\n",
       "      <td>False</td>\n",
       "      <td>False</td>\n",
       "      <td>False</td>\n",
       "      <td>False</td>\n",
       "      <td>False</td>\n",
       "    </tr>\n",
       "    <tr>\n",
       "      <th>3</th>\n",
       "      <td>10.0</td>\n",
       "      <td>31463</td>\n",
       "      <td>0.12</td>\n",
       "      <td>False</td>\n",
       "      <td>False</td>\n",
       "      <td>False</td>\n",
       "      <td>False</td>\n",
       "      <td>False</td>\n",
       "      <td>False</td>\n",
       "      <td>False</td>\n",
       "      <td>...</td>\n",
       "      <td>False</td>\n",
       "      <td>False</td>\n",
       "      <td>False</td>\n",
       "      <td>False</td>\n",
       "      <td>False</td>\n",
       "      <td>False</td>\n",
       "      <td>False</td>\n",
       "      <td>False</td>\n",
       "      <td>False</td>\n",
       "      <td>False</td>\n",
       "    </tr>\n",
       "    <tr>\n",
       "      <th>4</th>\n",
       "      <td>16.0</td>\n",
       "      <td>1222</td>\n",
       "      <td>13.17</td>\n",
       "      <td>False</td>\n",
       "      <td>False</td>\n",
       "      <td>False</td>\n",
       "      <td>False</td>\n",
       "      <td>False</td>\n",
       "      <td>False</td>\n",
       "      <td>False</td>\n",
       "      <td>...</td>\n",
       "      <td>False</td>\n",
       "      <td>False</td>\n",
       "      <td>False</td>\n",
       "      <td>False</td>\n",
       "      <td>False</td>\n",
       "      <td>False</td>\n",
       "      <td>False</td>\n",
       "      <td>False</td>\n",
       "      <td>False</td>\n",
       "      <td>False</td>\n",
       "    </tr>\n",
       "    <tr>\n",
       "      <th>...</th>\n",
       "      <td>...</td>\n",
       "      <td>...</td>\n",
       "      <td>...</td>\n",
       "      <td>...</td>\n",
       "      <td>...</td>\n",
       "      <td>...</td>\n",
       "      <td>...</td>\n",
       "      <td>...</td>\n",
       "      <td>...</td>\n",
       "      <td>...</td>\n",
       "      <td>...</td>\n",
       "      <td>...</td>\n",
       "      <td>...</td>\n",
       "      <td>...</td>\n",
       "      <td>...</td>\n",
       "      <td>...</td>\n",
       "      <td>...</td>\n",
       "      <td>...</td>\n",
       "      <td>...</td>\n",
       "      <td>...</td>\n",
       "      <td>...</td>\n",
       "    </tr>\n",
       "    <tr>\n",
       "      <th>17268</th>\n",
       "      <td>17.0</td>\n",
       "      <td>31463</td>\n",
       "      <td>0.14</td>\n",
       "      <td>True</td>\n",
       "      <td>False</td>\n",
       "      <td>False</td>\n",
       "      <td>False</td>\n",
       "      <td>False</td>\n",
       "      <td>False</td>\n",
       "      <td>False</td>\n",
       "      <td>...</td>\n",
       "      <td>False</td>\n",
       "      <td>False</td>\n",
       "      <td>False</td>\n",
       "      <td>False</td>\n",
       "      <td>False</td>\n",
       "      <td>False</td>\n",
       "      <td>False</td>\n",
       "      <td>False</td>\n",
       "      <td>False</td>\n",
       "      <td>True</td>\n",
       "    </tr>\n",
       "    <tr>\n",
       "      <th>17269</th>\n",
       "      <td>10.0</td>\n",
       "      <td>31463</td>\n",
       "      <td>0.15</td>\n",
       "      <td>True</td>\n",
       "      <td>False</td>\n",
       "      <td>False</td>\n",
       "      <td>False</td>\n",
       "      <td>False</td>\n",
       "      <td>False</td>\n",
       "      <td>False</td>\n",
       "      <td>...</td>\n",
       "      <td>False</td>\n",
       "      <td>False</td>\n",
       "      <td>False</td>\n",
       "      <td>False</td>\n",
       "      <td>False</td>\n",
       "      <td>False</td>\n",
       "      <td>False</td>\n",
       "      <td>False</td>\n",
       "      <td>False</td>\n",
       "      <td>True</td>\n",
       "    </tr>\n",
       "    <tr>\n",
       "      <th>17270</th>\n",
       "      <td>10.0</td>\n",
       "      <td>31463</td>\n",
       "      <td>0.17</td>\n",
       "      <td>True</td>\n",
       "      <td>False</td>\n",
       "      <td>False</td>\n",
       "      <td>False</td>\n",
       "      <td>False</td>\n",
       "      <td>False</td>\n",
       "      <td>False</td>\n",
       "      <td>...</td>\n",
       "      <td>False</td>\n",
       "      <td>False</td>\n",
       "      <td>False</td>\n",
       "      <td>False</td>\n",
       "      <td>False</td>\n",
       "      <td>False</td>\n",
       "      <td>False</td>\n",
       "      <td>False</td>\n",
       "      <td>False</td>\n",
       "      <td>True</td>\n",
       "    </tr>\n",
       "    <tr>\n",
       "      <th>17271</th>\n",
       "      <td>11.0</td>\n",
       "      <td>31463</td>\n",
       "      <td>0.13</td>\n",
       "      <td>True</td>\n",
       "      <td>False</td>\n",
       "      <td>False</td>\n",
       "      <td>False</td>\n",
       "      <td>False</td>\n",
       "      <td>False</td>\n",
       "      <td>False</td>\n",
       "      <td>...</td>\n",
       "      <td>False</td>\n",
       "      <td>False</td>\n",
       "      <td>False</td>\n",
       "      <td>False</td>\n",
       "      <td>False</td>\n",
       "      <td>False</td>\n",
       "      <td>False</td>\n",
       "      <td>False</td>\n",
       "      <td>False</td>\n",
       "      <td>True</td>\n",
       "    </tr>\n",
       "    <tr>\n",
       "      <th>17272</th>\n",
       "      <td>10.0</td>\n",
       "      <td>31463</td>\n",
       "      <td>0.08</td>\n",
       "      <td>False</td>\n",
       "      <td>False</td>\n",
       "      <td>False</td>\n",
       "      <td>False</td>\n",
       "      <td>False</td>\n",
       "      <td>False</td>\n",
       "      <td>False</td>\n",
       "      <td>...</td>\n",
       "      <td>False</td>\n",
       "      <td>False</td>\n",
       "      <td>False</td>\n",
       "      <td>False</td>\n",
       "      <td>False</td>\n",
       "      <td>False</td>\n",
       "      <td>False</td>\n",
       "      <td>False</td>\n",
       "      <td>False</td>\n",
       "      <td>True</td>\n",
       "    </tr>\n",
       "  </tbody>\n",
       "</table>\n",
       "<p>17267 rows × 104 columns</p>\n",
       "</div>"
      ],
      "text/plain": [
       "       Deaths  Births  Death rate per 1000  \\\n",
       "0        13.0    1607                 8.12   \n",
       "1        12.0     995                12.09   \n",
       "2        14.0    2456                 5.74   \n",
       "3        10.0   31463                 0.12   \n",
       "4        16.0    1222                13.17   \n",
       "...       ...     ...                  ...   \n",
       "17268    17.0   31463                 0.14   \n",
       "17269    10.0   31463                 0.15   \n",
       "17270    10.0   31463                 0.17   \n",
       "17271    11.0   31463                 0.13   \n",
       "17272    10.0   31463                 0.08   \n",
       "\n",
       "       Cause of death_#Assault (homicide) (*U01,X85-Y09)  \\\n",
       "0                                                  False   \n",
       "1                                                  False   \n",
       "2                                                  False   \n",
       "3                                                  False   \n",
       "4                                                  False   \n",
       "...                                                  ...   \n",
       "17268                                               True   \n",
       "17269                                               True   \n",
       "17270                                               True   \n",
       "17271                                               True   \n",
       "17272                                              False   \n",
       "\n",
       "       Cause of death_#Atelectasis (P28.0-P28.1)  \\\n",
       "0                                          False   \n",
       "1                                          False   \n",
       "2                                          False   \n",
       "3                                          False   \n",
       "4                                          False   \n",
       "...                                          ...   \n",
       "17268                                      False   \n",
       "17269                                      False   \n",
       "17270                                      False   \n",
       "17271                                      False   \n",
       "17272                                      False   \n",
       "\n",
       "       Cause of death_#Bacterial sepsis of newborn (P36)  \\\n",
       "0                                                  False   \n",
       "1                                                  False   \n",
       "2                                                  False   \n",
       "3                                                  False   \n",
       "4                                                  False   \n",
       "...                                                  ...   \n",
       "17268                                              False   \n",
       "17269                                              False   \n",
       "17270                                              False   \n",
       "17271                                              False   \n",
       "17272                                              False   \n",
       "\n",
       "       Cause of death_#Chronic respiratory disease originating in the perinatal period (P27)  \\\n",
       "0                                                  False                                       \n",
       "1                                                  False                                       \n",
       "2                                                  False                                       \n",
       "3                                                  False                                       \n",
       "4                                                  False                                       \n",
       "...                                                  ...                                       \n",
       "17268                                              False                                       \n",
       "17269                                              False                                       \n",
       "17270                                              False                                       \n",
       "17271                                              False                                       \n",
       "17272                                              False                                       \n",
       "\n",
       "       Cause of death_#Congenital malformations, deformations and chromosomal abnormalities (Q00-Q99)  \\\n",
       "0                                                  False                                                \n",
       "1                                                  False                                                \n",
       "2                                                  False                                                \n",
       "3                                                  False                                                \n",
       "4                                                  False                                                \n",
       "...                                                  ...                                                \n",
       "17268                                              False                                                \n",
       "17269                                              False                                                \n",
       "17270                                              False                                                \n",
       "17271                                              False                                                \n",
       "17272                                              False                                                \n",
       "\n",
       "       Cause of death_#Diarrhea and gastroenteritis of infectious origin (A09)  \\\n",
       "0                                                  False                         \n",
       "1                                                  False                         \n",
       "2                                                  False                         \n",
       "3                                                  False                         \n",
       "4                                                  False                         \n",
       "...                                                  ...                         \n",
       "17268                                              False                         \n",
       "17269                                              False                         \n",
       "17270                                              False                         \n",
       "17271                                              False                         \n",
       "17272                                              False                         \n",
       "\n",
       "       Cause of death_#Diseases of the circulatory system (I00-I99)  ...  \\\n",
       "0                                                  False             ...   \n",
       "1                                                  False             ...   \n",
       "2                                                  False             ...   \n",
       "3                                                  False             ...   \n",
       "4                                                  False             ...   \n",
       "...                                                  ...             ...   \n",
       "17268                                              False             ...   \n",
       "17269                                              False             ...   \n",
       "17270                                              False             ...   \n",
       "17271                                              False             ...   \n",
       "17272                                              False             ...   \n",
       "\n",
       "       Year_2013  Year_2014  Year_2015  Year_2016  Year_2017  Year_2018  \\\n",
       "0          False      False      False      False      False      False   \n",
       "1          False      False      False      False      False      False   \n",
       "2          False      False      False      False      False      False   \n",
       "3          False      False      False      False      False      False   \n",
       "4          False      False      False      False      False      False   \n",
       "...          ...        ...        ...        ...        ...        ...   \n",
       "17268      False      False      False      False      False      False   \n",
       "17269      False      False      False      False      False      False   \n",
       "17270      False      False      False      False      False      False   \n",
       "17271      False      False      False      False      False      False   \n",
       "17272      False      False      False      False      False      False   \n",
       "\n",
       "       Year_2019  Year_2020  Year_2021  Year_2022  \n",
       "0          False      False      False      False  \n",
       "1          False      False      False      False  \n",
       "2          False      False      False      False  \n",
       "3          False      False      False      False  \n",
       "4          False      False      False      False  \n",
       "...          ...        ...        ...        ...  \n",
       "17268      False      False      False       True  \n",
       "17269      False      False      False       True  \n",
       "17270      False      False      False       True  \n",
       "17271      False      False      False       True  \n",
       "17272      False      False      False       True  \n",
       "\n",
       "[17267 rows x 104 columns]"
      ]
     },
     "execution_count": 451,
     "metadata": {},
     "output_type": "execute_result"
    }
   ],
   "source": [
    "one_hot_encode_df = pd.get_dummies(clipped_data, drop_first=True)\n",
    "one_hot_encode_df"
   ]
  },
  {
   "cell_type": "markdown",
   "metadata": {},
   "source": [
    "## **Khám phá dữ liệu**"
   ]
  }
 ],
 "metadata": {
  "kernelspec": {
   "display_name": "min_ds-env2",
   "language": "python",
   "name": "python3"
  },
  "language_info": {
   "codemirror_mode": {
    "name": "ipython",
    "version": 3
   },
   "file_extension": ".py",
   "mimetype": "text/x-python",
   "name": "python",
   "nbconvert_exporter": "python",
   "pygments_lexer": "ipython3",
   "version": "3.10.15"
  }
 },
 "nbformat": 4,
 "nbformat_minor": 2
}
